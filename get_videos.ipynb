{
 "cells": [
  {
   "cell_type": "code",
   "execution_count": 1,
   "metadata": {
    "collapsed": true
   },
   "outputs": [],
   "source": [
    "import requests\n",
    "import collections\n",
    "import re\n",
    "from datetime import date\n",
    "import datetime,time\n",
    "from dateutil.rrule import rrule, DAILY, HOURLY\n",
    "import pandas as pd\n",
    "from utils import *\n",
    "import sys\n",
    "\n",
    "#sys.path.append('/usr/local/lib/python2.7/site-packages/')"
   ]
  },
  {
   "cell_type": "code",
   "execution_count": 2,
   "metadata": {
    "collapsed": true
   },
   "outputs": [],
   "source": [
    "import logging\n",
    "logger=logging.getLogger()\n",
    "logging.basicConfig(filename='./log.log',level=logging.WARNING)\n",
    "#logger.setLevel(logging.WARNING)"
   ]
  },
  {
   "cell_type": "markdown",
   "metadata": {},
   "source": [
    "Check quota [here](https://console.developers.google.com/project/childmarriage-1019/apiui/apiview/youtube/quotas)"
   ]
  },
  {
   "cell_type": "code",
   "execution_count": 18,
   "metadata": {
    "collapsed": true
   },
   "outputs": [],
   "source": [
    "taxonomyWords=['child marriage','child bride','underage bride','teen bride','forced marriage','early marriage']\n",
    "taxonomyWords.extend([u'बाल विवाह',u'बालिका वधु',u'नाबालिक विवाह',u'नाबालिक वधु',u'किशोर वधु',u'किशोर बीवी',u'जबरन शादी',u'जबरन विवाह'])\n",
    "taxonomyWords=map(lambda x:'\"'+x+'\"',taxonomyWords)\n",
    "FULLQUERY='|'.join(taxonomyWords)"
   ]
  },
  {
   "cell_type": "code",
   "execution_count": 19,
   "metadata": {
    "collapsed": false
   },
   "outputs": [
    {
     "data": {
      "text/plain": [
       "u'\"child marriage\"|\"child bride\"|\"underage bride\"|\"teen bride\"|\"forced marriage\"|\"early marriage\"|\"\\u092c\\u093e\\u0932 \\u0935\\u093f\\u0935\\u093e\\u0939\"|\"\\u092c\\u093e\\u0932\\u093f\\u0915\\u093e \\u0935\\u0927\\u0941\"|\"\\u0928\\u093e\\u092c\\u093e\\u0932\\u093f\\u0915 \\u0935\\u093f\\u0935\\u093e\\u0939\"|\"\\u0928\\u093e\\u092c\\u093e\\u0932\\u093f\\u0915 \\u0935\\u0927\\u0941\"|\"\\u0915\\u093f\\u0936\\u094b\\u0930 \\u0935\\u0927\\u0941\"|\"\\u0915\\u093f\\u0936\\u094b\\u0930 \\u092c\\u0940\\u0935\\u0940\"|\"\\u091c\\u092c\\u0930\\u0928 \\u0936\\u093e\\u0926\\u0940\"|\"\\u091c\\u092c\\u0930\\u0928 \\u0935\\u093f\\u0935\\u093e\\u0939\"'"
      ]
     },
     "execution_count": 19,
     "metadata": {},
     "output_type": "execute_result"
    }
   ],
   "source": [
    "FULLQUERY"
   ]
  },
  {
   "cell_type": "code",
   "execution_count": 20,
   "metadata": {
    "collapsed": true
   },
   "outputs": [],
   "source": [
    "QUERY=re.escape('\"child marriage\"|\"child bride\"')\n",
    "from secrets import KEY\n",
    "\n",
    "diff=1"
   ]
  },
  {
   "cell_type": "code",
   "execution_count": 21,
   "metadata": {
    "collapsed": true
   },
   "outputs": [],
   "source": [
    "def getVideoParts(vData):\n",
    "    title=res['items'][0]['snippet'].get('title')\n",
    "    time=res['items'][0]['snippet'].get('publishedAt')\n",
    "    tags=res['items'][0]['snippet'].get('tags')\n",
    "    lang=res['items'][0]['snippet'].get('defaultAudioLanguage')\n",
    "    description=res['items'][0]['snippet'].get('description')\n",
    "    commentCount=viewCount=favouriteCount=dislikeCount=likeCount=None\n",
    "    \n",
    "    stats=res['items'][0].get('statistics')\n",
    "\n",
    "    commentCount=stats.get('commentCount')\n",
    "    viewCount=stats.get('viewCount')\n",
    "    favouriteCount=stats.get('favoriteCount')\n",
    "    dislikeCount=stats.get('dislikeCount')\n",
    "    likeCount=stats.get('likeCount')\n",
    "    \n",
    "    return time,title,tags,lang,description,commentCount,viewCount,favouriteCount,dislikeCount,likeCount"
   ]
  },
  {
   "cell_type": "code",
   "execution_count": 22,
   "metadata": {
    "collapsed": true
   },
   "outputs": [],
   "source": [
    "def getCommentsFromVideo(vid):\n",
    "    requestString='https://www.googleapis.com/youtube/v3/commentThreads?part=snippet&maxResults=100&videoId='+vid+'&key='+KEY\n",
    "\n",
    "    res=requests.get(requestString)\n",
    "    commentData=res.json()\n",
    "\n",
    "    if res.status_code==403:\n",
    "        # Comments disabled\n",
    "        logging.warning('Comments error %d,%s' % (res.status_code,vid))\n",
    "        logging.warning(commentData)\n",
    "        return [],None\n",
    "    \n",
    "    isMore=False\n",
    "    \n",
    "    nextToken=commentData.get('nextPageToken')\n",
    "    \n",
    "    if nextToken:\n",
    "        if len(nextToken)>0:\n",
    "            logging.warning('!!!!More than 100 comments....')\n",
    "            isMore=True\n",
    "    \n",
    "    try:\n",
    "        logging.info('Got %d comments' % (len(commentData['items'])))\n",
    "    except:\n",
    "        logging.warning('!!!!ERROR',commentData.keys())\n",
    "        logging.warning('%d' % res.status_code)\n",
    "        logging.warning(commentData)\n",
    "    \n",
    "    return commentData['items'],isMore"
   ]
  },
  {
   "cell_type": "code",
   "execution_count": 23,
   "metadata": {
    "collapsed": true
   },
   "outputs": [],
   "source": [
    "def getCountryFromInfo(info):\n",
    "    if len(info['items'])>0:\n",
    "        return info['items'][0]['snippet'].get('country')\n",
    "    else:\n",
    "        return None"
   ]
  },
  {
   "cell_type": "code",
   "execution_count": 24,
   "metadata": {
    "collapsed": true
   },
   "outputs": [],
   "source": [
    "def getDescriptionFromInfo(info):\n",
    "    if len(info['items'])>0:\n",
    "        return info['items'][0]['snippet'].get('description')\n",
    "    else:\n",
    "        return None"
   ]
  },
  {
   "cell_type": "code",
   "execution_count": 25,
   "metadata": {
    "collapsed": true
   },
   "outputs": [],
   "source": [
    "def getTitleFromInfo(info):\n",
    "    if len(info['items'])>0:\n",
    "        return info['items'][0]['snippet'].get('title')\n",
    "    else:\n",
    "        return None"
   ]
  },
  {
   "cell_type": "code",
   "execution_count": 26,
   "metadata": {
    "collapsed": true
   },
   "outputs": [],
   "source": [
    "def getVideoInfoFromVideo(vid):\n",
    "\n",
    "        requestString='https://www.googleapis.com/youtube/v3/videos?part=snippet,statistics&id='+vid+'&key='+KEY\n",
    "\n",
    "        logging.info('QUERYING VIDEO %s' % vid)\n",
    "\n",
    "        d=requests.get(requestString)\n",
    "\n",
    "        return d.json()"
   ]
  },
  {
   "cell_type": "code",
   "execution_count": 27,
   "metadata": {
    "collapsed": true
   },
   "outputs": [],
   "source": [
    "def getChannelInfoFromChannel(cid):\n",
    "    requestString='https://www.googleapis.com/youtube/v3/channels?part=snippet&id='+cid+'&key='+KEY\n",
    "\n",
    "    logging.info('QUERYING CHANNEL'+cid)\n",
    "\n",
    "    d=requests.get(requestString)\n",
    "\n",
    "    return d.json()"
   ]
  },
  {
   "cell_type": "code",
   "execution_count": 28,
   "metadata": {
    "collapsed": false
   },
   "outputs": [],
   "source": [
    "def getRepliesFromComment(commentId):\n",
    "    requestString='https://www.googleapis.com/youtube/v3/comments?part=snippet&maxResults=100&parentId='+commentId+\\\n",
    "    '&key='+KEY\n",
    "    \n",
    "    isMore=False\n",
    "    \n",
    "    d=requests.get(requestString)\n",
    "    \n",
    "    returnData=d.json()\n",
    "    \n",
    "    nextToken=returnData.get('nextPageToken')\n",
    "    \n",
    "    if nextToken:\n",
    "        if len(nextToken)>0:\n",
    "            logging.warning('!!!!More than 100 comments....')\n",
    "            isMore=True\n",
    "    \n",
    "    return returnData,isMore"
   ]
  },
  {
   "cell_type": "code",
   "execution_count": 34,
   "metadata": {
    "collapsed": false
   },
   "outputs": [
    {
     "name": "stderr",
     "output_type": "stream",
     "text": [
      "WARNING:root:Comments error 403,bxNlQBQyDW8\n",
      "WARNING:root:{u'error': {u'code': 403, u'message': u'One or more of the requested comment threads cannot be retrieved due to insufficient permissions. The request might not be properly authorized.', u'errors': [{u'locationType': u'parameter', u'domain': u'youtube.commentThread', u'message': u'One or more of the requested comment threads cannot be retrieved due to insufficient permissions. The request might not be properly authorized.', u'reason': u'forbidden', u'location': u'id'}]}}\n",
      "WARNING:root:Comments error 403,kwklEVoHt3c\n",
      "WARNING:root:{u'error': {u'code': 403, u'message': u'One or more of the requested comment threads cannot be retrieved due to insufficient permissions. The request might not be properly authorized.', u'errors': [{u'locationType': u'parameter', u'domain': u'youtube.commentThread', u'message': u'One or more of the requested comment threads cannot be retrieved due to insufficient permissions. The request might not be properly authorized.', u'reason': u'forbidden', u'location': u'id'}]}}\n",
      "WARNING:root:Comments error 403,9JyqOlkyano\n",
      "WARNING:root:{u'error': {u'code': 403, u'message': u'One or more of the requested comment threads cannot be retrieved due to insufficient permissions. The request might not be properly authorized.', u'errors': [{u'locationType': u'parameter', u'domain': u'youtube.commentThread', u'message': u'One or more of the requested comment threads cannot be retrieved due to insufficient permissions. The request might not be properly authorized.', u'reason': u'forbidden', u'location': u'id'}]}}\n",
      "WARNING:root:Comments error 403,ePrtzoa_6EQ\n",
      "WARNING:root:{u'error': {u'code': 403, u'message': u'One or more of the requested comment threads cannot be retrieved due to insufficient permissions. The request might not be properly authorized.', u'errors': [{u'locationType': u'parameter', u'domain': u'youtube.commentThread', u'message': u'One or more of the requested comment threads cannot be retrieved due to insufficient permissions. The request might not be properly authorized.', u'reason': u'forbidden', u'location': u'id'}]}}\n",
      "WARNING:root:Stats: 50 videos 68 comments 33 replies\n"
     ]
    },
    {
     "name": "stdout",
     "output_type": "stream",
     "text": [
      "QUERYING API IN RANGE 2015-07-07T00:00:00Z 2015-07-08T00:00:00Z\n",
      "QUERYING API IN RANGE"
     ]
    },
    {
     "name": "stderr",
     "output_type": "stream",
     "text": [
      "WARNING:root:Comments error 403,zWeCx2fGnH8\n",
      "WARNING:root:{u'error': {u'code': 403, u'message': u'One or more of the requested comment threads cannot be retrieved due to insufficient permissions. The request might not be properly authorized.', u'errors': [{u'locationType': u'parameter', u'domain': u'youtube.commentThread', u'message': u'One or more of the requested comment threads cannot be retrieved due to insufficient permissions. The request might not be properly authorized.', u'reason': u'forbidden', u'location': u'id'}]}}\n",
      "WARNING:root:Comments error 403,nPPALaIg8Rw\n",
      "WARNING:root:{u'error': {u'code': 403, u'message': u'One or more of the requested comment threads cannot be retrieved due to insufficient permissions. The request might not be properly authorized.', u'errors': [{u'locationType': u'parameter', u'domain': u'youtube.commentThread', u'message': u'One or more of the requested comment threads cannot be retrieved due to insufficient permissions. The request might not be properly authorized.', u'reason': u'forbidden', u'location': u'id'}]}}\n",
      "WARNING:root:Comments error 403,DOb74XInbTI\n",
      "WARNING:root:{u'error': {u'code': 403, u'message': u'One or more of the requested comment threads cannot be retrieved due to insufficient permissions. The request might not be properly authorized.', u'errors': [{u'locationType': u'parameter', u'domain': u'youtube.commentThread', u'message': u'One or more of the requested comment threads cannot be retrieved due to insufficient permissions. The request might not be properly authorized.', u'reason': u'forbidden', u'location': u'id'}]}}\n",
      "WARNING:root:Comments error 403,1-LZ9-6YGS8\n",
      "WARNING:root:{u'error': {u'code': 403, u'message': u'One or more of the requested comment threads cannot be retrieved due to insufficient permissions. The request might not be properly authorized.', u'errors': [{u'locationType': u'parameter', u'domain': u'youtube.commentThread', u'message': u'One or more of the requested comment threads cannot be retrieved due to insufficient permissions. The request might not be properly authorized.', u'reason': u'forbidden', u'location': u'id'}]}}\n",
      "WARNING:root:Stats: 100 videos 99 comments 35 replies\n"
     ]
    },
    {
     "name": "stdout",
     "output_type": "stream",
     "text": [
      " 2015-07-08T00:00:00Z 2015-07-09T00:00:00Z\n",
      "QUERYING API IN RANGE"
     ]
    },
    {
     "name": "stderr",
     "output_type": "stream",
     "text": [
      "WARNING:root:Comments error 403,nwNzHHUtDJ0\n",
      "WARNING:root:{u'error': {u'code': 403, u'message': u'One or more of the requested comment threads cannot be retrieved due to insufficient permissions. The request might not be properly authorized.', u'errors': [{u'locationType': u'parameter', u'domain': u'youtube.commentThread', u'message': u'One or more of the requested comment threads cannot be retrieved due to insufficient permissions. The request might not be properly authorized.', u'reason': u'forbidden', u'location': u'id'}]}}\n",
      "WARNING:root:Comments error 403,mwPzvbHSIkA\n",
      "WARNING:root:{u'error': {u'code': 403, u'message': u'One or more of the requested comment threads cannot be retrieved due to insufficient permissions. The request might not be properly authorized.', u'errors': [{u'locationType': u'parameter', u'domain': u'youtube.commentThread', u'message': u'One or more of the requested comment threads cannot be retrieved due to insufficient permissions. The request might not be properly authorized.', u'reason': u'forbidden', u'location': u'id'}]}}\n",
      "WARNING:root:Comments error 403,JZcoZnNK7aA\n",
      "WARNING:root:{u'error': {u'code': 403, u'message': u'One or more of the requested comment threads cannot be retrieved due to insufficient permissions. The request might not be properly authorized.', u'errors': [{u'locationType': u'parameter', u'domain': u'youtube.commentThread', u'message': u'One or more of the requested comment threads cannot be retrieved due to insufficient permissions. The request might not be properly authorized.', u'reason': u'forbidden', u'location': u'id'}]}}\n",
      "WARNING:root:Comments error 403,t0aRSzckeiw\n",
      "WARNING:root:{u'error': {u'code': 403, u'message': u'One or more of the requested comment threads cannot be retrieved due to insufficient permissions. The request might not be properly authorized.', u'errors': [{u'locationType': u'parameter', u'domain': u'youtube.commentThread', u'message': u'One or more of the requested comment threads cannot be retrieved due to insufficient permissions. The request might not be properly authorized.', u'reason': u'forbidden', u'location': u'id'}]}}\n",
      "WARNING:root:Comments error 403,OkpH_5c5UuQ\n",
      "WARNING:root:{u'error': {u'code': 403, u'message': u'One or more of the requested comment threads cannot be retrieved due to insufficient permissions. The request might not be properly authorized.', u'errors': [{u'locationType': u'parameter', u'domain': u'youtube.commentThread', u'message': u'One or more of the requested comment threads cannot be retrieved due to insufficient permissions. The request might not be properly authorized.', u'reason': u'forbidden', u'location': u'id'}]}}\n",
      "WARNING:root:Comments error 403,JykUdQq8Kks\n",
      "WARNING:root:{u'error': {u'code': 403, u'message': u'One or more of the requested comment threads cannot be retrieved due to insufficient permissions. The request might not be properly authorized.', u'errors': [{u'locationType': u'parameter', u'domain': u'youtube.commentThread', u'message': u'One or more of the requested comment threads cannot be retrieved due to insufficient permissions. The request might not be properly authorized.', u'reason': u'forbidden', u'location': u'id'}]}}\n",
      "WARNING:root:Stats: 150 videos 181 comments 37 replies\n"
     ]
    },
    {
     "name": "stdout",
     "output_type": "stream",
     "text": [
      " 2015-07-09T00:00:00Z 2015-07-10T00:00:00Z\n",
      "QUERYING API IN RANGE"
     ]
    },
    {
     "name": "stderr",
     "output_type": "stream",
     "text": [
      "WARNING:root:Comments error 403,WIvQY79nT1o\n",
      "WARNING:root:{u'error': {u'code': 403, u'message': u'One or more of the requested comment threads cannot be retrieved due to insufficient permissions. The request might not be properly authorized.', u'errors': [{u'locationType': u'parameter', u'domain': u'youtube.commentThread', u'message': u'One or more of the requested comment threads cannot be retrieved due to insufficient permissions. The request might not be properly authorized.', u'reason': u'forbidden', u'location': u'id'}]}}\n",
      "WARNING:root:!!!!More than 100 comments....\n",
      "WARNING:root:Reply no author id {u'authorChannelUrl': u'https://plus.google.com/100044815977079306583', u'authorDisplayName': u'James Madyun', u'canRate': False, u'viewerRating': u'none', u'publishedAt': u'2015-07-20T20:31:39.182Z', u'likeCount': 1, u'parentId': u'z12mxzyakvbegr4jt04ceplzgwngfnhqfi4', u'updatedAt': u'2015-07-20T20:31:39.182Z', u'authorProfileImageUrl': u'https://lh5.googleusercontent.com/-oWuuNxdy3nY/AAAAAAAAAAI/AAAAAAAABWk/K4lZqOk76mE/photo.jpg?sz=50', u'authorGoogleplusProfileUrl': u'https://plus.google.com/100044815977079306583', u'textDisplay': u'Just watched it, that&#39;s some real shit! People want u to pick a side on everything when the world is not that simple anymore! I follow u, but I haven&#39;t been getting ur new posts for some reason. Gotta fix that cause u bring the truth with ur posts. Be safe and good luck on everything u do brother!'}\n",
      "WARNING:root:Stats: 200 videos 311 comments 33 replies\n"
     ]
    },
    {
     "name": "stdout",
     "output_type": "stream",
     "text": [
      " 2015-07-10T00:00:00Z 2015-07-11T00:00:00Z\n",
      "QUERYING API IN RANGE"
     ]
    },
    {
     "name": "stderr",
     "output_type": "stream",
     "text": [
      "WARNING:root:Comments error 403,JrZB_vRM_bc\n",
      "WARNING:root:{u'error': {u'code': 403, u'message': u'One or more of the requested comment threads cannot be retrieved due to insufficient permissions. The request might not be properly authorized.', u'errors': [{u'locationType': u'parameter', u'domain': u'youtube.commentThread', u'message': u'One or more of the requested comment threads cannot be retrieved due to insufficient permissions. The request might not be properly authorized.', u'reason': u'forbidden', u'location': u'id'}]}}\n",
      "WARNING:root:Stats: 250 videos 318 comments 33 replies\n"
     ]
    },
    {
     "name": "stdout",
     "output_type": "stream",
     "text": [
      " 2015-07-11T00:00:00Z 2015-07-12T00:00:00Z\n",
      "QUERYING API IN RANGE"
     ]
    },
    {
     "name": "stderr",
     "output_type": "stream",
     "text": [
      "WARNING:root:Stats: 300 videos 356 comments 33 replies\n"
     ]
    },
    {
     "name": "stdout",
     "output_type": "stream",
     "text": [
      " 2015-07-12T00:00:00Z 2015-07-13T00:00:00Z\n",
      "QUERYING API IN RANGE"
     ]
    },
    {
     "name": "stderr",
     "output_type": "stream",
     "text": [
      "WARNING:root:Comments error 403,B3BmW-IccKA\n",
      "WARNING:root:{u'error': {u'code': 403, u'message': u'One or more of the requested comment threads cannot be retrieved due to insufficient permissions. The request might not be properly authorized.', u'errors': [{u'locationType': u'parameter', u'domain': u'youtube.commentThread', u'message': u'One or more of the requested comment threads cannot be retrieved due to insufficient permissions. The request might not be properly authorized.', u'reason': u'forbidden', u'location': u'id'}]}}\n",
      "WARNING:root:Stats: 350 videos 373 comments 33 replies\n"
     ]
    },
    {
     "name": "stdout",
     "output_type": "stream",
     "text": [
      " 2015-07-13T00:00:00Z 2015-07-14T00:00:00Z\n",
      "QUERYING API IN RANGE"
     ]
    },
    {
     "name": "stderr",
     "output_type": "stream",
     "text": [
      "WARNING:root:Stats: 400 videos 475 comments 35 replies\n"
     ]
    },
    {
     "name": "stdout",
     "output_type": "stream",
     "text": [
      " 2015-07-14T00:00:00Z 2015-07-15T00:00:00Z\n",
      "QUERYING API IN RANGE"
     ]
    },
    {
     "name": "stderr",
     "output_type": "stream",
     "text": [
      "WARNING:root:Comments error 403,Fw44CEzz23o\n",
      "WARNING:root:{u'error': {u'code': 403, u'message': u'One or more of the requested comment threads cannot be retrieved due to insufficient permissions. The request might not be properly authorized.', u'errors': [{u'locationType': u'parameter', u'domain': u'youtube.commentThread', u'message': u'One or more of the requested comment threads cannot be retrieved due to insufficient permissions. The request might not be properly authorized.', u'reason': u'forbidden', u'location': u'id'}]}}\n",
      "WARNING:root:Stats: 450 videos 514 comments 37 replies\n"
     ]
    },
    {
     "name": "stdout",
     "output_type": "stream",
     "text": [
      " 2015-07-15T00:00:00Z 2015-07-16T00:00:00Z\n",
      "QUERYING API IN RANGE"
     ]
    },
    {
     "name": "stderr",
     "output_type": "stream",
     "text": [
      "WARNING:root:Comments error 403,An-B-ZFcbeY\n",
      "WARNING:root:{u'error': {u'code': 403, u'message': u'One or more of the requested comment threads cannot be retrieved due to insufficient permissions. The request might not be properly authorized.', u'errors': [{u'locationType': u'parameter', u'domain': u'youtube.commentThread', u'message': u'One or more of the requested comment threads cannot be retrieved due to insufficient permissions. The request might not be properly authorized.', u'reason': u'forbidden', u'location': u'id'}]}}\n",
      "WARNING:root:Comments error 403,-cMRQGnM30g\n",
      "WARNING:root:{u'error': {u'code': 403, u'message': u'One or more of the requested comment threads cannot be retrieved due to insufficient permissions. The request might not be properly authorized.', u'errors': [{u'locationType': u'parameter', u'domain': u'youtube.commentThread', u'message': u'One or more of the requested comment threads cannot be retrieved due to insufficient permissions. The request might not be properly authorized.', u'reason': u'forbidden', u'location': u'id'}]}}\n",
      "WARNING:root:Stats: 500 videos 521 comments 37 replies\n"
     ]
    },
    {
     "name": "stdout",
     "output_type": "stream",
     "text": [
      " 2015-07-16T00:00:00Z 2015-07-17T00:00:00Z\n",
      "QUERYING API IN RANGE"
     ]
    },
    {
     "name": "stderr",
     "output_type": "stream",
     "text": [
      "WARNING:root:Comments error 403,UB084U6SW-g\n",
      "WARNING:root:{u'error': {u'code': 403, u'message': u'One or more of the requested comment threads cannot be retrieved due to insufficient permissions. The request might not be properly authorized.', u'errors': [{u'locationType': u'parameter', u'domain': u'youtube.commentThread', u'message': u'One or more of the requested comment threads cannot be retrieved due to insufficient permissions. The request might not be properly authorized.', u'reason': u'forbidden', u'location': u'id'}]}}\n",
      "WARNING:root:Comments error 403,nem6iLsa_EA\n",
      "WARNING:root:{u'error': {u'code': 403, u'message': u'One or more of the requested comment threads cannot be retrieved due to insufficient permissions. The request might not be properly authorized.', u'errors': [{u'locationType': u'parameter', u'domain': u'youtube.commentThread', u'message': u'One or more of the requested comment threads cannot be retrieved due to insufficient permissions. The request might not be properly authorized.', u'reason': u'forbidden', u'location': u'id'}]}}\n",
      "WARNING:root:Stats: 550 videos 552 comments 33 replies\n"
     ]
    },
    {
     "name": "stdout",
     "output_type": "stream",
     "text": [
      " 2015-07-17T00:00:00Z 2015-07-18T00:00:00Z\n",
      "QUERYING API IN RANGE"
     ]
    },
    {
     "name": "stderr",
     "output_type": "stream",
     "text": [
      "WARNING:root:Comments error 403,godiyKoe-ik\n",
      "WARNING:root:{u'error': {u'code': 403, u'message': u'One or more of the requested comment threads cannot be retrieved due to insufficient permissions. The request might not be properly authorized.', u'errors': [{u'locationType': u'parameter', u'domain': u'youtube.commentThread', u'message': u'One or more of the requested comment threads cannot be retrieved due to insufficient permissions. The request might not be properly authorized.', u'reason': u'forbidden', u'location': u'id'}]}}\n",
      "WARNING:root:Comments error 403,SZ4fK2M_SlU\n",
      "WARNING:root:{u'error': {u'code': 403, u'message': u'One or more of the requested comment threads cannot be retrieved due to insufficient permissions. The request might not be properly authorized.', u'errors': [{u'locationType': u'parameter', u'domain': u'youtube.commentThread', u'message': u'One or more of the requested comment threads cannot be retrieved due to insufficient permissions. The request might not be properly authorized.', u'reason': u'forbidden', u'location': u'id'}]}}\n",
      "WARNING:root:Comments error 403,AEGXJrb7B9E\n",
      "WARNING:root:{u'error': {u'code': 403, u'message': u'One or more of the requested comment threads cannot be retrieved due to insufficient permissions. The request might not be properly authorized.', u'errors': [{u'locationType': u'parameter', u'domain': u'youtube.commentThread', u'message': u'One or more of the requested comment threads cannot be retrieved due to insufficient permissions. The request might not be properly authorized.', u'reason': u'forbidden', u'location': u'id'}]}}\n",
      "WARNING:root:Comments error 403,5JiYOfHuAv4\n",
      "WARNING:root:{u'error': {u'code': 403, u'message': u'One or more of the requested comment threads cannot be retrieved due to insufficient permissions. The request might not be properly authorized.', u'errors': [{u'locationType': u'parameter', u'domain': u'youtube.commentThread', u'message': u'One or more of the requested comment threads cannot be retrieved due to insufficient permissions. The request might not be properly authorized.', u'reason': u'forbidden', u'location': u'id'}]}}\n",
      "WARNING:root:Comments error 403,V8lsSj1XJNU\n",
      "WARNING:root:{u'error': {u'code': 403, u'message': u'One or more of the requested comment threads cannot be retrieved due to insufficient permissions. The request might not be properly authorized.', u'errors': [{u'locationType': u'parameter', u'domain': u'youtube.commentThread', u'message': u'One or more of the requested comment threads cannot be retrieved due to insufficient permissions. The request might not be properly authorized.', u'reason': u'forbidden', u'location': u'id'}]}}\n",
      "WARNING:root:Comments error 403,ULI5azLIGHk\n",
      "WARNING:root:{u'error': {u'code': 403, u'message': u'One or more of the requested comment threads cannot be retrieved due to insufficient permissions. The request might not be properly authorized.', u'errors': [{u'locationType': u'parameter', u'domain': u'youtube.commentThread', u'message': u'One or more of the requested comment threads cannot be retrieved due to insufficient permissions. The request might not be properly authorized.', u'reason': u'forbidden', u'location': u'id'}]}}\n",
      "WARNING:root:Stats: 600 videos 616 comments 37 replies\n"
     ]
    },
    {
     "name": "stdout",
     "output_type": "stream",
     "text": [
      " 2015-07-18T00:00:00Z 2015-07-19T00:00:00Z\n",
      "QUERYING API IN RANGE"
     ]
    },
    {
     "name": "stderr",
     "output_type": "stream",
     "text": [
      "WARNING:root:!!!!More than 100 comments....\n",
      "WARNING:root:Stats: 650 videos 782 comments 37 replies\n"
     ]
    },
    {
     "name": "stdout",
     "output_type": "stream",
     "text": [
      " 2015-07-19T00:00:00Z 2015-07-20T00:00:00Z\n",
      "QUERYING API IN RANGE"
     ]
    },
    {
     "name": "stderr",
     "output_type": "stream",
     "text": [
      "WARNING:root:Comments error 403,xkd4-bzFOpU\n",
      "WARNING:root:{u'error': {u'code': 403, u'message': u'One or more of the requested comment threads cannot be retrieved due to insufficient permissions. The request might not be properly authorized.', u'errors': [{u'locationType': u'parameter', u'domain': u'youtube.commentThread', u'message': u'One or more of the requested comment threads cannot be retrieved due to insufficient permissions. The request might not be properly authorized.', u'reason': u'forbidden', u'location': u'id'}]}}\n",
      "WARNING:root:Comments error 403,OatMQ1dIIXI\n",
      "WARNING:root:{u'error': {u'code': 403, u'message': u'One or more of the requested comment threads cannot be retrieved due to insufficient permissions. The request might not be properly authorized.', u'errors': [{u'locationType': u'parameter', u'domain': u'youtube.commentThread', u'message': u'One or more of the requested comment threads cannot be retrieved due to insufficient permissions. The request might not be properly authorized.', u'reason': u'forbidden', u'location': u'id'}]}}\n",
      "WARNING:root:Comments error 403,9tdB__I2Pco\n",
      "WARNING:root:{u'error': {u'code': 403, u'message': u'One or more of the requested comment threads cannot be retrieved due to insufficient permissions. The request might not be properly authorized.', u'errors': [{u'locationType': u'parameter', u'domain': u'youtube.commentThread', u'message': u'One or more of the requested comment threads cannot be retrieved due to insufficient permissions. The request might not be properly authorized.', u'reason': u'forbidden', u'location': u'id'}]}}\n",
      "WARNING:root:Comments error 403,Pp74QYpFOdg\n",
      "WARNING:root:{u'error': {u'code': 403, u'message': u'One or more of the requested comment threads cannot be retrieved due to insufficient permissions. The request might not be properly authorized.', u'errors': [{u'locationType': u'parameter', u'domain': u'youtube.commentThread', u'message': u'One or more of the requested comment threads cannot be retrieved due to insufficient permissions. The request might not be properly authorized.', u'reason': u'forbidden', u'location': u'id'}]}}\n",
      "WARNING:root:Stats: 700 videos 841 comments 35 replies\n"
     ]
    },
    {
     "name": "stdout",
     "output_type": "stream",
     "text": [
      " 2015-07-20T00:00:00Z 2015-07-21T00:00:00Z\n",
      "QUERYING API IN RANGE"
     ]
    },
    {
     "name": "stderr",
     "output_type": "stream",
     "text": [
      "WARNING:root:Comments error 403,dvu_st8ygfA\n",
      "WARNING:root:{u'error': {u'code': 403, u'message': u'One or more of the requested comment threads cannot be retrieved due to insufficient permissions. The request might not be properly authorized.', u'errors': [{u'locationType': u'parameter', u'domain': u'youtube.commentThread', u'message': u'One or more of the requested comment threads cannot be retrieved due to insufficient permissions. The request might not be properly authorized.', u'reason': u'forbidden', u'location': u'id'}]}}\n",
      "WARNING:root:Comments error 403,iLO7ijqKFIs\n",
      "WARNING:root:{u'error': {u'code': 403, u'message': u'One or more of the requested comment threads cannot be retrieved due to insufficient permissions. The request might not be properly authorized.', u'errors': [{u'locationType': u'parameter', u'domain': u'youtube.commentThread', u'message': u'One or more of the requested comment threads cannot be retrieved due to insufficient permissions. The request might not be properly authorized.', u'reason': u'forbidden', u'location': u'id'}]}}\n",
      "WARNING:root:Comments error 403,bQmMf7sFNRk\n",
      "WARNING:root:{u'error': {u'code': 403, u'message': u'One or more of the requested comment threads cannot be retrieved due to insufficient permissions. The request might not be properly authorized.', u'errors': [{u'locationType': u'parameter', u'domain': u'youtube.commentThread', u'message': u'One or more of the requested comment threads cannot be retrieved due to insufficient permissions. The request might not be properly authorized.', u'reason': u'forbidden', u'location': u'id'}]}}\n",
      "WARNING:root:Stats: 750 videos 849 comments 35 replies\n"
     ]
    },
    {
     "name": "stdout",
     "output_type": "stream",
     "text": [
      " 2015-07-21T00:00:00Z 2015-07-22T00:00:00Z\n",
      "QUERYING API IN RANGE"
     ]
    },
    {
     "name": "stderr",
     "output_type": "stream",
     "text": [
      "WARNING:root:Comments error 403,7Yg4wwGBIAc\n",
      "WARNING:root:{u'error': {u'code': 403, u'message': u'One or more of the requested comment threads cannot be retrieved due to insufficient permissions. The request might not be properly authorized.', u'errors': [{u'locationType': u'parameter', u'domain': u'youtube.commentThread', u'message': u'One or more of the requested comment threads cannot be retrieved due to insufficient permissions. The request might not be properly authorized.', u'reason': u'forbidden', u'location': u'id'}]}}\n",
      "WARNING:root:Comments error 403,BISpVefrekc\n",
      "WARNING:root:{u'error': {u'code': 403, u'message': u'One or more of the requested comment threads cannot be retrieved due to insufficient permissions. The request might not be properly authorized.', u'errors': [{u'locationType': u'parameter', u'domain': u'youtube.commentThread', u'message': u'One or more of the requested comment threads cannot be retrieved due to insufficient permissions. The request might not be properly authorized.', u'reason': u'forbidden', u'location': u'id'}]}}\n",
      "WARNING:root:Comments error 403,44zrvJ71Z-g\n",
      "WARNING:root:{u'error': {u'code': 403, u'message': u'One or more of the requested comment threads cannot be retrieved due to insufficient permissions. The request might not be properly authorized.', u'errors': [{u'locationType': u'parameter', u'domain': u'youtube.commentThread', u'message': u'One or more of the requested comment threads cannot be retrieved due to insufficient permissions. The request might not be properly authorized.', u'reason': u'forbidden', u'location': u'id'}]}}\n",
      "WARNING:root:Comments error 403,5szIJ4DFzL8\n",
      "WARNING:root:{u'error': {u'code': 403, u'message': u'One or more of the requested comment threads cannot be retrieved due to insufficient permissions. The request might not be properly authorized.', u'errors': [{u'locationType': u'parameter', u'domain': u'youtube.commentThread', u'message': u'One or more of the requested comment threads cannot be retrieved due to insufficient permissions. The request might not be properly authorized.', u'reason': u'forbidden', u'location': u'id'}]}}\n",
      "WARNING:root:Comments error 403,fH4D49OJZAY\n",
      "WARNING:root:{u'error': {u'code': 403, u'message': u'One or more of the requested comment threads cannot be retrieved due to insufficient permissions. The request might not be properly authorized.', u'errors': [{u'locationType': u'parameter', u'domain': u'youtube.commentThread', u'message': u'One or more of the requested comment threads cannot be retrieved due to insufficient permissions. The request might not be properly authorized.', u'reason': u'forbidden', u'location': u'id'}]}}\n",
      "WARNING:root:Comments error 403,IdBJ_InTIVI\n",
      "WARNING:root:{u'error': {u'code': 403, u'message': u'One or more of the requested comment threads cannot be retrieved due to insufficient permissions. The request might not be properly authorized.', u'errors': [{u'locationType': u'parameter', u'domain': u'youtube.commentThread', u'message': u'One or more of the requested comment threads cannot be retrieved due to insufficient permissions. The request might not be properly authorized.', u'reason': u'forbidden', u'location': u'id'}]}}\n",
      "WARNING:root:Stats: 800 videos 852 comments 35 replies\n"
     ]
    },
    {
     "name": "stdout",
     "output_type": "stream",
     "text": [
      " 2015-07-22T00:00:00Z 2015-07-23T00:00:00Z\n",
      "QUERYING API IN RANGE"
     ]
    },
    {
     "name": "stderr",
     "output_type": "stream",
     "text": [
      "WARNING:root:Comments error 403,6d-3pdRk_Pc\n",
      "WARNING:root:{u'error': {u'code': 403, u'message': u'One or more of the requested comment threads cannot be retrieved due to insufficient permissions. The request might not be properly authorized.', u'errors': [{u'locationType': u'parameter', u'domain': u'youtube.commentThread', u'message': u'One or more of the requested comment threads cannot be retrieved due to insufficient permissions. The request might not be properly authorized.', u'reason': u'forbidden', u'location': u'id'}]}}\n",
      "WARNING:root:Comments error 403,-b9c2jjDG98\n",
      "WARNING:root:{u'error': {u'code': 403, u'message': u'One or more of the requested comment threads cannot be retrieved due to insufficient permissions. The request might not be properly authorized.', u'errors': [{u'locationType': u'parameter', u'domain': u'youtube.commentThread', u'message': u'One or more of the requested comment threads cannot be retrieved due to insufficient permissions. The request might not be properly authorized.', u'reason': u'forbidden', u'location': u'id'}]}}\n",
      "WARNING:root:Comments error 403,dVl42EcZ4eE\n",
      "WARNING:root:{u'error': {u'code': 403, u'message': u'One or more of the requested comment threads cannot be retrieved due to insufficient permissions. The request might not be properly authorized.', u'errors': [{u'locationType': u'parameter', u'domain': u'youtube.commentThread', u'message': u'One or more of the requested comment threads cannot be retrieved due to insufficient permissions. The request might not be properly authorized.', u'reason': u'forbidden', u'location': u'id'}]}}\n",
      "WARNING:root:Comments error 403,vnKuG7Rxdmg\n",
      "WARNING:root:{u'error': {u'code': 403, u'message': u'One or more of the requested comment threads cannot be retrieved due to insufficient permissions. The request might not be properly authorized.', u'errors': [{u'locationType': u'parameter', u'domain': u'youtube.commentThread', u'message': u'One or more of the requested comment threads cannot be retrieved due to insufficient permissions. The request might not be properly authorized.', u'reason': u'forbidden', u'location': u'id'}]}}\n",
      "WARNING:root:Stats: 850 videos 854 comments 35 replies\n"
     ]
    },
    {
     "name": "stdout",
     "output_type": "stream",
     "text": [
      " 2015-07-23T00:00:00Z 2015-07-24T00:00:00Z\n",
      "QUERYING API IN RANGE"
     ]
    },
    {
     "name": "stderr",
     "output_type": "stream",
     "text": [
      "WARNING:root:Stats: 900 videos 862 comments 33 replies\n"
     ]
    },
    {
     "name": "stdout",
     "output_type": "stream",
     "text": [
      " 2015-07-24T00:00:00Z 2015-07-25T00:00:00Z\n",
      "QUERYING API IN RANGE"
     ]
    },
    {
     "name": "stderr",
     "output_type": "stream",
     "text": [
      "WARNING:root:Comments error 403,i9cgsemUpHM\n",
      "WARNING:root:{u'error': {u'code': 403, u'message': u'One or more of the requested comment threads cannot be retrieved due to insufficient permissions. The request might not be properly authorized.', u'errors': [{u'locationType': u'parameter', u'domain': u'youtube.commentThread', u'message': u'One or more of the requested comment threads cannot be retrieved due to insufficient permissions. The request might not be properly authorized.', u'reason': u'forbidden', u'location': u'id'}]}}\n",
      "WARNING:root:Stats: 950 videos 872 comments 33 replies\n"
     ]
    },
    {
     "name": "stdout",
     "output_type": "stream",
     "text": [
      " 2015-07-25T00:00:00Z 2015-07-26T00:00:00Z\n",
      "QUERYING API IN RANGE"
     ]
    },
    {
     "name": "stderr",
     "output_type": "stream",
     "text": [
      "WARNING:root:Stats: 1000 videos 899 comments 35 replies\n"
     ]
    },
    {
     "name": "stdout",
     "output_type": "stream",
     "text": [
      " 2015-07-26T00:00:00Z 2015-07-27T00:00:00Z\n",
      "QUERYING API IN RANGE"
     ]
    },
    {
     "name": "stderr",
     "output_type": "stream",
     "text": [
      "WARNING:root:Stats: 1050 videos 901 comments 35 replies\n"
     ]
    },
    {
     "name": "stdout",
     "output_type": "stream",
     "text": [
      " 2015-07-27T00:00:00Z 2015-07-28T00:00:00Z\n",
      "QUERYING API IN RANGE"
     ]
    },
    {
     "name": "stderr",
     "output_type": "stream",
     "text": [
      "WARNING:root:Comments error 403,KWbxGQL8ULM\n",
      "WARNING:root:{u'error': {u'code': 403, u'message': u'One or more of the requested comment threads cannot be retrieved due to insufficient permissions. The request might not be properly authorized.', u'errors': [{u'locationType': u'parameter', u'domain': u'youtube.commentThread', u'message': u'One or more of the requested comment threads cannot be retrieved due to insufficient permissions. The request might not be properly authorized.', u'reason': u'forbidden', u'location': u'id'}]}}\n",
      "WARNING:root:Comments error 403,lHxpcsl91RU\n",
      "WARNING:root:{u'error': {u'code': 403, u'message': u'One or more of the requested comment threads cannot be retrieved due to insufficient permissions. The request might not be properly authorized.', u'errors': [{u'locationType': u'parameter', u'domain': u'youtube.commentThread', u'message': u'One or more of the requested comment threads cannot be retrieved due to insufficient permissions. The request might not be properly authorized.', u'reason': u'forbidden', u'location': u'id'}]}}\n",
      "WARNING:root:Comments error 403,RjPoLt18_yU\n",
      "WARNING:root:{u'error': {u'code': 403, u'message': u'One or more of the requested comment threads cannot be retrieved due to insufficient permissions. The request might not be properly authorized.', u'errors': [{u'locationType': u'parameter', u'domain': u'youtube.commentThread', u'message': u'One or more of the requested comment threads cannot be retrieved due to insufficient permissions. The request might not be properly authorized.', u'reason': u'forbidden', u'location': u'id'}]}}\n",
      "WARNING:root:Stats: 1100 videos 909 comments 33 replies\n"
     ]
    },
    {
     "name": "stdout",
     "output_type": "stream",
     "text": [
      " 2015-07-28T00:00:00Z 2015-07-29T00:00:00Z\n",
      "QUERYING API IN RANGE"
     ]
    },
    {
     "name": "stderr",
     "output_type": "stream",
     "text": [
      "WARNING:root:Stats: 1150 videos 918 comments 37 replies\n"
     ]
    },
    {
     "name": "stdout",
     "output_type": "stream",
     "text": [
      " 2015-07-29T00:00:00Z 2015-07-30T00:00:00Z\n",
      "QUERYING API IN RANGE"
     ]
    },
    {
     "name": "stderr",
     "output_type": "stream",
     "text": [
      "WARNING:root:Comments error 403,BO9eutaHKjY\n",
      "WARNING:root:{u'error': {u'code': 403, u'message': u'One or more of the requested comment threads cannot be retrieved due to insufficient permissions. The request might not be properly authorized.', u'errors': [{u'locationType': u'parameter', u'domain': u'youtube.commentThread', u'message': u'One or more of the requested comment threads cannot be retrieved due to insufficient permissions. The request might not be properly authorized.', u'reason': u'forbidden', u'location': u'id'}]}}\n",
      "WARNING:root:Comments error 403,Enx1buH-Nk0\n",
      "WARNING:root:{u'error': {u'code': 403, u'message': u'One or more of the requested comment threads cannot be retrieved due to insufficient permissions. The request might not be properly authorized.', u'errors': [{u'locationType': u'parameter', u'domain': u'youtube.commentThread', u'message': u'One or more of the requested comment threads cannot be retrieved due to insufficient permissions. The request might not be properly authorized.', u'reason': u'forbidden', u'location': u'id'}]}}\n",
      "WARNING:root:Comments error 403,8xZUnouTyCg\n",
      "WARNING:root:{u'error': {u'code': 403, u'message': u'One or more of the requested comment threads cannot be retrieved due to insufficient permissions. The request might not be properly authorized.', u'errors': [{u'locationType': u'parameter', u'domain': u'youtube.commentThread', u'message': u'One or more of the requested comment threads cannot be retrieved due to insufficient permissions. The request might not be properly authorized.', u'reason': u'forbidden', u'location': u'id'}]}}\n",
      "WARNING:root:Stats: 1200 videos 919 comments 37 replies\n"
     ]
    },
    {
     "name": "stdout",
     "output_type": "stream",
     "text": [
      " 2015-07-30T00:00:00Z 2015-07-31T00:00:00Z\n",
      "QUERYING API IN RANGE"
     ]
    },
    {
     "name": "stderr",
     "output_type": "stream",
     "text": [
      "WARNING:root:Comments error 403,bEq9xakA000\n",
      "WARNING:root:{u'error': {u'code': 403, u'message': u'One or more of the requested comment threads cannot be retrieved due to insufficient permissions. The request might not be properly authorized.', u'errors': [{u'locationType': u'parameter', u'domain': u'youtube.commentThread', u'message': u'One or more of the requested comment threads cannot be retrieved due to insufficient permissions. The request might not be properly authorized.', u'reason': u'forbidden', u'location': u'id'}]}}\n",
      "WARNING:root:Stats: 1250 videos 921 comments 37 replies\n"
     ]
    },
    {
     "name": "stdout",
     "output_type": "stream",
     "text": [
      " 2015-07-31T00:00:00Z 2015-08-01T00:00:00Z\n",
      "QUERYING API IN RANGE"
     ]
    },
    {
     "name": "stderr",
     "output_type": "stream",
     "text": [
      "WARNING:root:Comments error 403,9F0qfaOGCyk\n",
      "WARNING:root:{u'error': {u'code': 403, u'message': u'One or more of the requested comment threads cannot be retrieved due to insufficient permissions. The request might not be properly authorized.', u'errors': [{u'locationType': u'parameter', u'domain': u'youtube.commentThread', u'message': u'One or more of the requested comment threads cannot be retrieved due to insufficient permissions. The request might not be properly authorized.', u'reason': u'forbidden', u'location': u'id'}]}}\n",
      "WARNING:root:Comments error 403,uwDykL1H8YU\n",
      "WARNING:root:{u'error': {u'code': 403, u'message': u'One or more of the requested comment threads cannot be retrieved due to insufficient permissions. The request might not be properly authorized.', u'errors': [{u'locationType': u'parameter', u'domain': u'youtube.commentThread', u'message': u'One or more of the requested comment threads cannot be retrieved due to insufficient permissions. The request might not be properly authorized.', u'reason': u'forbidden', u'location': u'id'}]}}\n",
      "WARNING:root:Comments error 403,hV6cp0f1WKg\n",
      "WARNING:root:{u'error': {u'code': 403, u'message': u'One or more of the requested comment threads cannot be retrieved due to insufficient permissions. The request might not be properly authorized.', u'errors': [{u'locationType': u'parameter', u'domain': u'youtube.commentThread', u'message': u'One or more of the requested comment threads cannot be retrieved due to insufficient permissions. The request might not be properly authorized.', u'reason': u'forbidden', u'location': u'id'}]}}\n",
      "WARNING:root:Stats: 1300 videos 932 comments 33 replies\n"
     ]
    },
    {
     "name": "stdout",
     "output_type": "stream",
     "text": [
      " 2015-08-01T00:00:00Z 2015-08-02T00:00:00Z\n",
      "QUERYING API IN RANGE"
     ]
    },
    {
     "name": "stderr",
     "output_type": "stream",
     "text": [
      "WARNING:root:Stats: 1350 videos 932 comments 33 replies\n"
     ]
    },
    {
     "name": "stdout",
     "output_type": "stream",
     "text": [
      " 2015-08-02T00:00:00Z 2015-08-03T00:00:00Z\n"
     ]
    }
   ],
   "source": [
    "\n",
    "nDayDiff=7*4\n",
    "# Look back n days from start date\n",
    "\n",
    "diff=1\n",
    "# Start date is yesterday\n",
    "\n",
    "now=datetime.datetime.now()\n",
    "\n",
    "endDate=date(now.year,now.month,now.day)\n",
    "# Throw away hour, minute, second\n",
    "\n",
    "endDate=endDate-datetime.timedelta(days=diff)\n",
    "endDateTemp=endDate\n",
    "# Look back diff days\n",
    "\n",
    "startDate=endDate-datetime.timedelta(days=nDayDiff)\n",
    "startDateTemp=startDate\n",
    "\n",
    "endDate=endDate.strftime(\"%Y-%m-%dT%H:%M:%SZ\")\n",
    "startDate=startDate.strftime(\"%Y-%m-%dT%H:%M:%SZ\")\n",
    "\n",
    "startDates=[startDate]\n",
    "endDates=[endDate]\n",
    "\n",
    "logging.info('%s - %s' %  (' '.join(startDates),' '.join(endDates)))\n",
    "\n",
    "startDates=[d for d in rrule(DAILY,dtstart=startDateTemp,until=endDateTemp-datetime.timedelta(days=1))]\n",
    "startDates=[d.strftime(\"%Y-%m-%dT%H:%M:%SZ\") for d in startDates]\n",
    "\n",
    "logging.info('Start dates %s' % (' '.join(startDates)))\n",
    "\n",
    "vIdList=[]\n",
    "vTimeList=[]\n",
    "vTitleList=[]\n",
    "vLangList=[]\n",
    "vTagList=[]\n",
    "vDescriptionList=[]\n",
    "vCommentCountList=[]\n",
    "vViewCountList=[]\n",
    "vFavouriteCountList=[]\n",
    "vDislikeCountList=[]\n",
    "vLikeCountList=[]\n",
    "\n",
    "cIdList=[]\n",
    "cCountryList=[]\n",
    "cDescriptionList=[]\n",
    "cTitleList=[]\n",
    "\n",
    "commentIdList=[]\n",
    "commentVideoIdList=[]\n",
    "commentTextList=[]\n",
    "commentUserIdList=[]\n",
    "commentLikesList=[]\n",
    "commentTimeList=[]\n",
    "\n",
    "# commentCount:0 viewCount:4 favoriteCount:0 dislikeCount:0 likeCount:0\n",
    "\n",
    "replyTextList=[]\n",
    "replyCommentIdList=[]\n",
    "replyTimeList=[]\n",
    "replyAuthorIdList=[]\n",
    "replyLikeCountList=[]\n",
    "\n",
    "##############\n",
    "for start,end in zip(startDates[0:-1],startDates[1:]):\n",
    "\n",
    "    requestString='https://www.googleapis.com/youtube/v3/search?part=snippet&q='+FULLQUERY+'&key='+KEY+'&maxResults=50&type=video&publishedBefore='+end+'&publishedAfter='+start\n",
    "\n",
    "    print 'QUERYING API IN RANGE',start,end\n",
    "    logging.info('QUERYING API IN RANGE %s - %s' % (start,end))\n",
    "    \n",
    "    d=requests.get(requestString)\n",
    "    logging.info('Search return code %d' % d.status_code)\n",
    "\n",
    "    data=d.json()\n",
    "    \n",
    "    logging.info('Got %d videos' % (len(data['items'])))\n",
    "\n",
    "    videoIds=[]\n",
    "\n",
    "    for v,video in enumerate(data['items']):\n",
    "        \n",
    "        ############################################\n",
    "        # Video stuff\n",
    "\n",
    "        videoId=video[u'id']['videoId']\n",
    "        vIdList.append(videoId)\n",
    "        \n",
    "        videoIds.append(videoId)\n",
    "        videoData=getVideoData(videoId)\n",
    "\n",
    "        logging.info('Video ID %s' % videoId)\n",
    "        logging.info('Video keys %s' % (videoData['items'][0].keys()))\n",
    "\n",
    "        res=getVideoInfoFromVideo(videoData['items'][0]['id'])\n",
    "        channelId=res['items'][0]['snippet']['channelId']\n",
    "\n",
    "        vTime,vTitle,vTags,vLang,vDescription,vCommentCount,vViewCount,vFavouriteCount,vDislikeCount,vLikeCount=\\\n",
    "        getVideoParts(res['items'][0])\n",
    "        \n",
    "        logging.info('Video Title: %s' % vTitle)\n",
    "        vTitleList.append(vTitle)\n",
    "        \n",
    "        logging.info('Video time: %s' % vTime)\n",
    "        vTimeList.append(vTime)\n",
    "        \n",
    "        logging.info('Video tags: %s' % vTags)\n",
    "        vTagList.append(vTags)\n",
    "        \n",
    "        if vLang:logging.info('Video lang: %s' % vLang)\n",
    "        vLangList.append(vLang)\n",
    "        \n",
    "        if False:print 'Video Description:',vDescription\n",
    "        vDescriptionList.append(vDescription)\n",
    "        \n",
    "        logging.info('Video Stats %s' % ' '.join([k+':'+v for k,v in zip(['comments','views','favs','dislike','like'],[vCommentCount,vViewCount,vFavouriteCount,vDislikeCount,vLikeCount]) if v]))\n",
    "        vCommentCountList.append(vCommentCount)\n",
    "        vViewCountList.append(vViewCount)\n",
    "        vFavouriteCountList.append(vFavouriteCount)\n",
    "        vDislikeCountList.append(vDislikeCount)\n",
    "        vLikeCountList.append(vLikeCount)\n",
    "        \n",
    "        commentThreads,isMoreComments=getCommentsFromVideo(videoId)\n",
    "        \n",
    "        for thread in commentThreads:\n",
    "            \n",
    "            commentId=thread['snippet']['topLevelComment']['id']\n",
    "            commentIdList.append(commentId)\n",
    "            \n",
    "            commentVideoId=thread['snippet']['topLevelComment']['snippet']['videoId']\n",
    "            commentVideoIdList.append(commentVideoId)\n",
    "            \n",
    "            commentText=thread['snippet']['topLevelComment']['snippet']['textDisplay']\n",
    "            commentTextList.append(commentText)\n",
    "            \n",
    "            commentTime=thread['snippet']['topLevelComment']['snippet']['publishedAt']\n",
    "            commentTimeList.append(commentTime)\n",
    "            \n",
    "            try:commentUser=thread['snippet']['topLevelComment']['snippet']['authorChannelId']['value']\n",
    "            except:commentuser=None\n",
    "            \n",
    "            commentUserIdList.append(commentUser)\n",
    "            \n",
    "            commentLikes=thread['snippet']['topLevelComment']['snippet']['likeCount']\n",
    "            commentLikesList.append(commentLikes)\n",
    "                    \n",
    "            if thread['snippet']['totalReplyCount']>0:\n",
    "                replies,isMoreReplies=getRepliesFromComment(commentId)\n",
    "                logging.info('%d replies' % (len(replies)))\n",
    "                \n",
    "                for reply in replies['items']:\n",
    "                    replyText=reply['snippet']['textDisplay']\n",
    "                    replyTextList.append(replyText)\n",
    "                    \n",
    "                    replyCommentId=reply['snippet']['parentId']\n",
    "                    replyCommentIdList.append(replyCommentId)\n",
    "                    \n",
    "                    replyTime=reply['snippet']['publishedAt']\n",
    "                    replyTimeList.append(replyTime)\n",
    "                    \n",
    "                    try:replyAuthorId=reply['snippet']['authorChannelId']['value']\n",
    "                    except:\n",
    "                        logging.warning('Reply no author id %s' % reply['snippet'])\n",
    "                        replyAuthorId=None\n",
    "                    replyAuthorIdList.append(replyAuthorId)\n",
    "                    \n",
    "                    replyLikeCount=reply['snippet']['likeCount']\n",
    "                    replyLikeCountList.append(replyLikeCount)\n",
    "                \n",
    "        ############################################\n",
    "        # Channel stuff\n",
    "        \n",
    "        info=getChannelInfoFromChannel(channelId)\n",
    "        cIdList.append(channelId)\n",
    "\n",
    "        cCountry=getCountryFromInfo(info)\n",
    "        logging.info('Channel Country: %s' % cCountry)\n",
    "        cCountryList.append(cCountry)\n",
    "        \n",
    "        cDescription=getDescriptionFromInfo(info)\n",
    "        if False:print 'Channel Description:',cDescription\n",
    "        cDescriptionList.append(cDescription)\n",
    "        \n",
    "        cTitle=getTitleFromInfo(info)\n",
    "        logging.info('Channel Title %s' % cTitle)\n",
    "        cTitleList.append(cTitle)\n",
    "        \n",
    "        logging.info('\\n')\n",
    "        \n",
    "        assert len(vIdList)==len(vTitleList)==len(vTagList)==len(vLangList)==len(vDescriptionList)==len(vViewCountList)\\\n",
    "        ==len(vFavouriteCountList)==len(vDislikeCountList)==len(vLikeCountList)==len(vTimeList)\\\n",
    "        ,'Video data mismatched'\n",
    "        \n",
    "        assert len(commentIdList)==len(commentLikesList)==len(commentTextList)==len(commentTimeList)\\\n",
    "        ==len(commentUserIdList)==len(commentVideoIdList)\\\n",
    "        ,'Comment data mismatched'\n",
    "        \n",
    "        assert len(replyAuthorIdList)==len(replyCommentIdList)==len(replyLikeCountList)==len(replyTextList)\\\n",
    "        ==len(replyTimeList)\\\n",
    "        ,'Reply data mismatched'\n",
    "        \n",
    "    logging.warning('Stats: %d videos %d comments %d replies' %(len(vIdList),len(commentIdList),len(replyCommentId)))\n",
    "\n",
    "videoDf=pd.DataFrame(data={'id':vIdList,'title':vTitleList,'tags':vTagList,'lang':vLangList,'description':vDescriptionList,\\\n",
    "                'views':vViewCountList,'favourites':vFavouriteCountList,'dislikes':vDislikeCountList,\\\n",
    "                'likes':vLikeCountList,'channelId':cIdList,'channelCountry':cCountryList,\\\n",
    "                'channelDescription':cDescriptionList,'channelTitle':cTitleList},index=vTimeList)       \n",
    "      \n",
    "commentDf=pd.DataFrame(data={'text':commentTextList,'videoId':commentVideoIdList,'id':commentIdList,\\\n",
    "                             'likes':commentLikesList,'user':commentUserIdList},index=commentTimeList)\n",
    "\n",
    "replyDf=pd.DataFrame(data={'text':replyTextList,'likes':replyLikeCountList,'author':replyAuthorIdList,\\\n",
    "                           'parent':replyCommentIdList},index=replyTimeList)"
   ]
  },
  {
   "cell_type": "code",
   "execution_count": 30,
   "metadata": {
    "collapsed": false
   },
   "outputs": [
    {
     "name": "stdout",
     "output_type": "stream",
     "text": [
      "(15, 4) (300, 13) (31, 5)\n"
     ]
    }
   ],
   "source": [
    "print replyDf.shape,videoDf.shape,commentDf.shape"
   ]
  },
  {
   "cell_type": "markdown",
   "metadata": {},
   "source": [
    "###Write Out"
   ]
  },
  {
   "cell_type": "code",
   "execution_count": 35,
   "metadata": {
    "collapsed": false
   },
   "outputs": [],
   "source": [
    "videoDf.to_pickle('videos.dat')\n",
    "commentDf.to_pickle('comments.dat')\n",
    "replyDf.to_pickle('replies.dat')"
   ]
  },
  {
   "cell_type": "markdown",
   "metadata": {
    "collapsed": true
   },
   "source": [
    "###Read In"
   ]
  },
  {
   "cell_type": "code",
   "execution_count": 3,
   "metadata": {
    "collapsed": true
   },
   "outputs": [],
   "source": [
    "videoDf=pd.read_pickle('videos.dat')\n",
    "commentDf=pd.read_pickle('comments.dat')\n",
    "replyDf=pd.read_pickle('replies.dat')"
   ]
  },
  {
   "cell_type": "code",
   "execution_count": 6,
   "metadata": {
    "collapsed": true
   },
   "outputs": [],
   "source": [
    "videoDf.index=pd.to_datetime(videoDf.index)"
   ]
  },
  {
   "cell_type": "code",
   "execution_count": 8,
   "metadata": {
    "collapsed": false
   },
   "outputs": [
    {
     "data": {
      "text/plain": [
       "2015-07-07    50\n",
       "2015-07-08    50\n",
       "2015-07-09    50\n",
       "2015-07-10    50\n",
       "2015-07-11    50\n",
       "2015-07-12    50\n",
       "2015-07-13    50\n",
       "2015-07-14    50\n",
       "2015-07-15    50\n",
       "2015-07-16    50\n",
       "2015-07-17    50\n",
       "2015-07-18    50\n",
       "2015-07-19    50\n",
       "2015-07-20    50\n",
       "2015-07-21    50\n",
       "2015-07-22    50\n",
       "2015-07-23    50\n",
       "2015-07-24    50\n",
       "2015-07-25    50\n",
       "2015-07-26    50\n",
       "2015-07-27    50\n",
       "2015-07-28    50\n",
       "2015-07-29    50\n",
       "2015-07-30    50\n",
       "2015-07-31    50\n",
       "2015-08-01    50\n",
       "2015-08-02    50\n",
       "Freq: D, Name: id, dtype: int64"
      ]
     },
     "execution_count": 8,
     "metadata": {},
     "output_type": "execute_result"
    }
   ],
   "source": [
    "videoDf['id'].resample('d',how='count')"
   ]
  },
  {
   "cell_type": "code",
   "execution_count": 11,
   "metadata": {
    "collapsed": false
   },
   "outputs": [
    {
     "data": {
      "text/plain": [
       "TGwTeR8Y8Qw    100\n",
       "MgnnQ2CN6yY     99\n",
       "2y70CqPE_cM     79\n",
       "Al4-THYps_w     55\n",
       "xkFTZcUPjBg     52\n",
       "sDVbAD5QCrk     39\n",
       "hreEjmTIeKM     33\n",
       "GjV10YBi1UQ     29\n",
       "mFK6k7ClkIc     27\n",
       "-s4S0njqrdE     22\n",
       "kN_kAkmVJvs     18\n",
       "l5jl-UAtEc8     17\n",
       "z1dcbQGJuiA     17\n",
       "qE0f0Hq0Voo     14\n",
       "Yz9Txg1I6cs     12\n",
       "oTtQ5tUf_6U     11\n",
       "flNywB5uMt4     11\n",
       "RFxgvG2CQcc      9\n",
       "vnY5Ns5CxPk      8\n",
       "hBVjZfBnW-4      8\n",
       "nbTVFW0LTnI      8\n",
       "5xIF0aOe198      8\n",
       "70w98yeKj74      8\n",
       "2pnfP7tW494      8\n",
       "1Q88H5lYEko      7\n",
       "w9gsiNjX8UA      7\n",
       "qbpkO5lBOWM      6\n",
       "E3DKqzGQQz8      6\n",
       "Lh063DA601c      5\n",
       "jJQdexuPpAM      4\n",
       "              ... \n",
       "nl-NfmTczFc      1\n",
       "ZSI9aH6aMbE      1\n",
       "uinbPS2mkto      1\n",
       "olbD1OIXZQ8      1\n",
       "4VkNuaGbMiY      1\n",
       "mQTAJ8CrSN0      1\n",
       "svxMxqG17wU      1\n",
       "YAceVl9toWM      1\n",
       "apREz_5r7qw      1\n",
       "Qvb45V9Y6q4      1\n",
       "OWgSwhMDkuY      1\n",
       "KNiVrh0jZIw      1\n",
       "m7W7lQjxVrU      1\n",
       "vK5Z7nJmEbk      1\n",
       "coHt16QE3x8      1\n",
       "shndeihYRKw      1\n",
       "DIRPBFLBEts      1\n",
       "howQ_ZU6Qqw      1\n",
       "Xq9YOaLur8s      1\n",
       "UiuBuk3tGoU      1\n",
       "pzo4Sb67-nI      1\n",
       "cKQnWRbU9FA      1\n",
       "gX_KrUV5h70      1\n",
       "gLemLQQMCyk      1\n",
       "zxW7E6yXLT0      1\n",
       "mUbX9Iy1ikY      1\n",
       "U4NO8Rb-oHA      1\n",
       "9tCLiOdAF0c      1\n",
       "rVvsRuD_6wA      1\n",
       "oz9gL7nIzYM      1\n",
       "dtype: int64"
      ]
     },
     "execution_count": 11,
     "metadata": {},
     "output_type": "execute_result"
    }
   ],
   "source": [
    "commentDf.videoId.value_counts()"
   ]
  },
  {
   "cell_type": "code",
   "execution_count": null,
   "metadata": {
    "collapsed": true
   },
   "outputs": [],
   "source": []
  }
 ],
 "metadata": {
  "kernelspec": {
   "display_name": "Python 2",
   "language": "python",
   "name": "python2"
  },
  "language_info": {
   "codemirror_mode": {
    "name": "ipython",
    "version": 2
   },
   "file_extension": ".py",
   "mimetype": "text/x-python",
   "name": "python",
   "nbconvert_exporter": "python",
   "pygments_lexer": "ipython2",
   "version": "2.7.10"
  }
 },
 "nbformat": 4,
 "nbformat_minor": 0
}
