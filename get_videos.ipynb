{
 "cells": [
  {
   "cell_type": "code",
   "execution_count": 1,
   "metadata": {
    "collapsed": false
   },
   "outputs": [],
   "source": [
    "import requests\n",
    "import collections\n",
    "import re,random\n",
    "from datetime import date\n",
    "import datetime,time\n",
    "from dateutil.rrule import rrule, DAILY, HOURLY\n",
    "import pandas as pd\n",
    "import numpy as np\n",
    "import logging\n",
    "from utils import *\n",
    "\n",
    "import sys,time\n",
    "sys.path.append('/usr/local/lib/python2.7/dist-packages')\n",
    "import langid\n",
    "\n",
    "import seaborn as sns\n",
    "import matplotlib.pyplot as plt\n",
    "\n",
    "#sys.path.append('/usr/local/lib/python2.7/site-packages/')\n",
    "%matplotlib inline\n",
    "%config InlineBackend.figure_format = 'svg'"
   ]
  },
  {
   "cell_type": "code",
   "execution_count": 2,
   "metadata": {
    "collapsed": false
   },
   "outputs": [],
   "source": [
    "sns.set_context('paper')"
   ]
  },
  {
   "cell_type": "code",
   "execution_count": 3,
   "metadata": {
    "collapsed": true
   },
   "outputs": [],
   "source": [
    "logger=logging.getLogger()\n",
    "hdlr = logging.FileHandler('log.log')\n",
    "formatter = logging.Formatter('%(asctime)s %(levelname)s %(message)s')\n",
    "hdlr.setFormatter(formatter)\n",
    "logger.addHandler(hdlr)\n",
    "#logger.setLevel(logging.WARNING)"
   ]
  },
  {
   "cell_type": "markdown",
   "metadata": {},
   "source": [
    "Check quota [here](https://console.developers.google.com/project/childmarriage-1019/apiui/apiview/youtube/quotas)"
   ]
  },
  {
   "cell_type": "code",
   "execution_count": 4,
   "metadata": {
    "collapsed": true
   },
   "outputs": [],
   "source": [
    "taxonomyWords=['banda','bandas','pandilla','pandillas','cuadrillo','cuadrillos','brigada','brigadas']\n",
    "taxonomyWords=map(lambda x:'\"'+x+'\"',taxonomyWords)\n",
    "#taxonomyWords=map(lambda x:'%22'+x+'%22',taxonomyWords)\n",
    "#FULLQUERY='|'.join(taxonomyWords)\n",
    "FULLQUERY='%7C'.join(taxonomyWords)\n"
   ]
  },
  {
   "cell_type": "code",
   "execution_count": 5,
   "metadata": {
    "collapsed": false
   },
   "outputs": [
    {
     "data": {
      "text/plain": [
       "'\"banda\"%7C\"bandas\"%7C\"pandilla\"%7C\"pandillas\"%7C\"cuadrillo\"%7C\"cuadrillos\"%7C\"brigada\"%7C\"brigadas\"'"
      ]
     },
     "execution_count": 5,
     "metadata": {},
     "output_type": "execute_result"
    }
   ],
   "source": [
    "FULLQUERY"
   ]
  },
  {
   "cell_type": "code",
   "execution_count": 6,
   "metadata": {
    "collapsed": true
   },
   "outputs": [],
   "source": [
    "QUERY=re.escape('\"bandas\"&\"salvador\"')\n",
    "from secrets import KEY\n",
    "\n",
    "diff=1"
   ]
  },
  {
   "cell_type": "code",
   "execution_count": 31,
   "metadata": {
    "collapsed": true
   },
   "outputs": [],
   "source": [
    "def getVideoParts(vData):\n",
    "    title=res['items'][0]['snippet'].get('title')\n",
    "    time=res['items'][0]['snippet'].get('publishedAt')\n",
    "    tags=res['items'][0]['snippet'].get('tags')\n",
    "    lang=res['items'][0]['snippet'].get('defaultAudioLanguage')\n",
    "    description=res['items'][0]['snippet'].get('description')\n",
    "    commentCount=viewCount=favouriteCount=dislikeCount=likeCount=None\n",
    "    \n",
    "    stats=res['items'][0].get('statistics')\n",
    "\n",
    "    commentCount=stats.get('commentCount')\n",
    "    viewCount=stats.get('viewCount')\n",
    "    favouriteCount=stats.get('favoriteCount')\n",
    "    dislikeCount=stats.get('dislikeCount')\n",
    "    likeCount=stats.get('likeCount')\n",
    "    \n",
    "    return time,title,tags,lang,description,commentCount,viewCount,favouriteCount,dislikeCount,likeCount"
   ]
  },
  {
   "cell_type": "code",
   "execution_count": 8,
   "metadata": {
    "collapsed": true
   },
   "outputs": [],
   "source": [
    "def getCountryFromInfo(info):\n",
    "    if info.get('items'):\n",
    "        if len(info['items'])>0:\n",
    "            return info['items'][0]['snippet'].get('country')\n",
    "    \n",
    "    logging.warning('Country lookup error %s' % info)\n",
    "    return None"
   ]
  },
  {
   "cell_type": "code",
   "execution_count": 9,
   "metadata": {
    "collapsed": true
   },
   "outputs": [],
   "source": [
    "def getDescriptionFromInfo(info):\n",
    "    if len(info['items'])>0:\n",
    "        return info['items'][0]['snippet'].get('description')\n",
    "    else:\n",
    "        return None"
   ]
  },
  {
   "cell_type": "code",
   "execution_count": 10,
   "metadata": {
    "collapsed": true
   },
   "outputs": [],
   "source": [
    "def getTitleFromInfo(info):\n",
    "    if len(info['items'])>0:\n",
    "        return info['items'][0]['snippet'].get('title')\n",
    "    else:\n",
    "        return None"
   ]
  },
  {
   "cell_type": "code",
   "execution_count": 11,
   "metadata": {
    "collapsed": true
   },
   "outputs": [],
   "source": [
    "def getVideoInfoFromVideo(vid):\n",
    "\n",
    "        requestString='https://www.googleapis.com/youtube/v3/videos?part=snippet,statistics&id='+vid+'&key='+KEY\n",
    "\n",
    "        logging.info('QUERYING VIDEO %s' % vid)\n",
    "\n",
    "        d=requests.get(requestString)\n",
    "\n",
    "        data=d.json()\n",
    "        \n",
    "        if not data.get('items') or not d.status_code==200:\n",
    "            logging.warning('Error getting video info %s (%d)' % (vid,d.status_code))\n",
    "            logging.warning(data)\n",
    "            return None\n",
    "        \n",
    "        return data"
   ]
  },
  {
   "cell_type": "code",
   "execution_count": 12,
   "metadata": {
    "collapsed": true
   },
   "outputs": [],
   "source": [
    "def getChannelInfoFromChannel(cid):\n",
    "    requestString='https://www.googleapis.com/youtube/v3/channels?part=snippet&id='+cid+'&key='+KEY\n",
    "\n",
    "    logging.info('QUERYING CHANNEL'+cid)\n",
    "\n",
    "    d=requests.get(requestString)\n",
    "\n",
    "    return d.json()"
   ]
  },
  {
   "cell_type": "code",
   "execution_count": 13,
   "metadata": {
    "collapsed": false
   },
   "outputs": [],
   "source": [
    "def getRepliesFromComment(commentId,commentTime,commentText,nextReplyPageToken):\n",
    "    \n",
    "    if not nextReplyPageToken:\n",
    "        requestString='https://www.googleapis.com/youtube/v3/comments?part=snippet&maxResults=100&parentId='+commentId+\\\n",
    "    '&key='+KEY\n",
    "    else:\n",
    "        logging.warning('Requesting reply page %s' % nextReplyPageToken)\n",
    "        requestString='https://www.googleapis.com/youtube/v3/comments?part=snippet&maxResults=100&parentId='+commentId+\\\n",
    "    '&pageToken='+nextReplyPageToken+'&key='+KEY\n",
    "    \n",
    "    isMore=False\n",
    "    \n",
    "    d=requests.get(requestString)\n",
    "    \n",
    "    returnData=d.json()\n",
    "    \n",
    "    newNextToken=returnData.get('nextPageToken')\n",
    "    newPreviousToken=returnData.get('prevPageToken')\n",
    "    logging.warning('Tokens Next: %s Previous: %s' % (newNextToken,newPreviousToken))\n",
    "\n",
    "    if not d.status_code==200:\n",
    "        logging.warning('Reply error %s',d.json())\n",
    "        return {'items':[]},False,None\n",
    "    \n",
    "    if newNextToken:\n",
    "        if len(newNextToken)>0:\n",
    "            logging.warning('!!!!More than 100 replies....')\n",
    "            isMore=True\n",
    "    \n",
    "    return returnData,isMore,newNextToken\n",
    "# commentData['items'],isMoreComments,nextToken"
   ]
  },
  {
   "cell_type": "code",
   "execution_count": 14,
   "metadata": {
    "collapsed": true
   },
   "outputs": [],
   "source": [
    "def getVideos(end,start,nextToken):\n",
    "    '''\n",
    "    Note that data['pageInfo']['totalResults'] is not reliable\n",
    "    '''\n",
    "    if not nextToken:\n",
    "        requestString='https://www.googleapis.com/youtube/v3/search?part=snippet&q='\\\n",
    "        +FULLQUERY+'&key='+KEY+'&maxResults=50&type=video&publishedBefore='+end+'&publishedAfter='+start\n",
    "    else:\n",
    "        requestString='https://www.googleapis.com/youtube/v3/search?part=snippet&q='\\\n",
    "        +FULLQUERY+'&key='+KEY+'&maxResults=50&type=video&publishedBefore='+end+'&publishedAfter='+start\\\n",
    "        +'&pageToken='+nextToken\n",
    "        logging.warning('Next page token: %s' % nextToken)\n",
    "    '''\n",
    "    print requestString\n",
    "    print re.escape(requestString)\n",
    "    sys.exit(1)\n",
    "    '''\n",
    "        \n",
    "    print 'QUERYING API IN RANGE',start,end\n",
    "    logging.info('QUERYING API IN RANGE %s - %s' % (start,end))\n",
    "        \n",
    "    d=requests.get(requestString)\n",
    "    \n",
    "    if not d.status_code==200:\n",
    "        logging.warning('Search return code %d' % d.status_code)\n",
    "        logging.warning(d.json())\n",
    "        logging.warning(requestString)\n",
    "\n",
    "    data=d.json()\n",
    "        \n",
    "    newNextToken=data.get('nextPageToken')\n",
    "    newPreviousToken=data.get('prevPageToken')\n",
    "    logging.warning('Tokens Next: %s Previous: %s' % (newNextToken,newPreviousToken))\n",
    "\n",
    "    isMore=False\n",
    "    \n",
    "    if newNextToken:\n",
    "        if len(newNextToken)>0 and not (newNextToken==nextToken):\n",
    "            logging.warning('!!!!More than 50 videos....')\n",
    "            isMore=True\n",
    "            \n",
    "    return data,isMore,newNextToken"
   ]
  },
  {
   "cell_type": "code",
   "execution_count": 15,
   "metadata": {
    "collapsed": false
   },
   "outputs": [],
   "source": [
    "def getCommentsFromVideo(vid,nextCommentPageToken):\n",
    "#   data,isMoreComments,nextPageToken=getCommentsFromVideo(videoId,nextCommentPageToken)\n",
    "\n",
    "    if not nextCommentPageToken:\n",
    "        requestString='https://www.googleapis.com/youtube/v3/commentThreads?part=snippet&maxResults=100&'\\\n",
    "        'videoId='+vid+'&key='+KEY\n",
    "    else:\n",
    "        requestString='https://www.googleapis.com/youtube/v3/commentThreads?part=snippet&maxResults=100'\\\n",
    "        +'&pageToken='+nextCommentPageToken+'&videoId='+vid+'&key='+KEY\n",
    "    \n",
    "        \n",
    "    res=requests.get(requestString)\n",
    "    commentData=res.json()\n",
    "\n",
    "    if res.status_code==403:\n",
    "        # Comments disabled\n",
    "        logging.warning('Comments error %d,%s' % (res.status_code,vid))\n",
    "#        logging.warning(commentData)\n",
    "        return [],False,None\n",
    "    \n",
    "    nAttempts=0\n",
    "    \n",
    "    while not res.status_code==200:\n",
    "        logging.warning('Error %d' % res.status_code)\n",
    "#        logging.warning('%s' %commentData)\n",
    "        print commentData\n",
    "        print requestString\n",
    "        print vid,nextCommentPageToken,KEY\n",
    "        loggin.warning('Sleeping (attempt #%d)' % nAttempts)\n",
    "        time.sleep(60)\n",
    "        res=requests.get(requestString)\n",
    "        commentData=res.json()\n",
    "        nAttempts+=1\n",
    "        if nttempts==10:\n",
    "            logging.warning('Giving up')\n",
    "            return [],False,None\n",
    "        \n",
    "    isMoreComments=False\n",
    "    \n",
    "    nextToken=commentData.get('nextPageToken')\n",
    "    \n",
    "    if nextToken:\n",
    "        if len(nextToken)>0:\n",
    "            logging.warning('More than 100 comments for video %s' % vid)\n",
    "            isMoreComments=True\n",
    "    \n",
    "    try:\n",
    "        logging.info('Got %d comments' % (len(commentData['items'])))\n",
    "    except:\n",
    "        logging.warning('!!!!ERROR',commentData.keys())\n",
    "        logging.warning('%d' % res.status_code)\n",
    "#        logging.warning(commentData)\n",
    "    \n",
    "    return commentData['items'],isMoreComments,nextToken"
   ]
  },
  {
   "cell_type": "code",
   "execution_count": 35,
   "metadata": {
    "collapsed": false
   },
   "outputs": [
    {
     "name": "stderr",
     "output_type": "stream",
     "text": [
      "WARNING:root:Getting more videos\n",
      "WARNING:root:Tokens Next: CDIQAA Previous: None\n",
      "WARNING:root:!!!!More than 50 videos....\n",
      "WARNING:root:Data keys [u'nextPageToken', u'items', u'kind', u'etag', u'pageInfo']\n",
      "WARNING:root:Got 50 videos\n",
      "WARNING:root:Got 50 unique videos\n",
      "WARNING:root:Getting first comments for GliUq7zvskk\n",
      "WARNING:root:More than 100 comments for video GliUq7zvskk\n",
      "WARNING:root:Tokens Next: None Previous: None\n",
      "WARNING:root:Tokens Next: None Previous: None\n",
      "WARNING:root:Tokens Next: None Previous: None\n",
      "WARNING:root:Tokens Next: None Previous: None\n",
      "WARNING:root:Tokens Next: None Previous: None\n",
      "WARNING:root:Tokens Next: None Previous: None\n",
      "WARNING:root:Tokens Next: None Previous: None\n",
      "WARNING:root:Tokens Next: None Previous: None\n",
      "WARNING:root:Tokens Next: None Previous: None\n",
      "WARNING:root:Tokens Next: None Previous: None\n",
      "WARNING:root:Tokens Next: None Previous: None\n",
      "WARNING:root:Tokens Next: None Previous: None\n",
      "WARNING:root:Tokens Next: None Previous: None\n",
      "WARNING:root:Tokens Next: None Previous: None\n",
      "WARNING:root:Getting more comments\n",
      "WARNING:root:Cg0QsND05_mVygIgACgBEhQIABCIhf-C4ZXKAhjwr8HBk4vKAhgCIGQoy463xZacpqI2\n",
      "WARNING:root:Got all comments for video\n",
      "WARNING:root:Getting first comments for xO8AAKwxbsQ\n",
      "WARNING:root:Tokens Next: None Previous: None\n",
      "WARNING:root:Got all comments for video\n",
      "WARNING:root:Getting first comments for YA59leU_f8A\n",
      "WARNING:root:Got all comments for video\n",
      "WARNING:root:Getting first comments for 0BvNwYAamQg\n",
      "WARNING:root:Got all comments for video\n",
      "WARNING:root:Getting first comments for yGFEc15itZQ\n",
      "WARNING:root:Got all comments for video\n",
      "WARNING:root:Getting first comments for GlZFJCJiQtY\n",
      "WARNING:root:More than 100 comments for video GlZFJCJiQtY\n",
      "WARNING:root:Tokens Next: None Previous: None\n",
      "WARNING:root:Tokens Next: None Previous: None\n",
      "WARNING:root:Tokens Next: None Previous: None\n",
      "WARNING:root:Tokens Next: None Previous: None\n",
      "WARNING:root:Tokens Next: None Previous: None\n",
      "WARNING:root:Tokens Next: None Previous: None\n",
      "WARNING:root:Tokens Next: None Previous: None\n"
     ]
    },
    {
     "name": "stdout",
     "output_type": "stream",
     "text": [
      "QUERYING API IN RANGE 2016-01-02T00:00:00Z 2016-01-03T00:00:00Z\n"
     ]
    },
    {
     "ename": "SSLError",
     "evalue": "EOF occurred in violation of protocol (_ssl.c:590)",
     "output_type": "error",
     "traceback": [
      "\u001b[1;31m---------------------------------------------------------------------------\u001b[0m",
      "\u001b[1;31mSSLError\u001b[0m                                  Traceback (most recent call last)",
      "\u001b[1;32m<ipython-input-35-259ceb5ed0ed>\u001b[0m in \u001b[0;36m<module>\u001b[1;34m()\u001b[0m\n\u001b[0;32m    173\u001b[0m \u001b[1;33m\u001b[0m\u001b[0m\n\u001b[0;32m    174\u001b[0m                             \u001b[1;32mif\u001b[0m \u001b[0mcommentUser\u001b[0m\u001b[1;33m:\u001b[0m\u001b[1;33m\u001b[0m\u001b[0m\n\u001b[1;32m--> 175\u001b[1;33m                                 \u001b[0mcommentInfo\u001b[0m\u001b[1;33m=\u001b[0m\u001b[0mgetChannelInfoFromChannel\u001b[0m\u001b[1;33m(\u001b[0m\u001b[0mcommentUser\u001b[0m\u001b[1;33m)\u001b[0m\u001b[1;33m\u001b[0m\u001b[0m\n\u001b[0m\u001b[0;32m    176\u001b[0m                             \u001b[1;32mif\u001b[0m \u001b[0mcommentInfo\u001b[0m\u001b[1;33m:\u001b[0m\u001b[1;33m\u001b[0m\u001b[0m\n\u001b[0;32m    177\u001b[0m                                 \u001b[0mcommentCountry\u001b[0m\u001b[1;33m=\u001b[0m\u001b[0mgetCountryFromInfo\u001b[0m\u001b[1;33m(\u001b[0m\u001b[0mcommentInfo\u001b[0m\u001b[1;33m)\u001b[0m\u001b[1;33m\u001b[0m\u001b[0m\n",
      "\u001b[1;32m<ipython-input-12-6a3ecd8ee810>\u001b[0m in \u001b[0;36mgetChannelInfoFromChannel\u001b[1;34m(cid)\u001b[0m\n\u001b[0;32m      4\u001b[0m     \u001b[0mlogging\u001b[0m\u001b[1;33m.\u001b[0m\u001b[0minfo\u001b[0m\u001b[1;33m(\u001b[0m\u001b[1;34m'QUERYING CHANNEL'\u001b[0m\u001b[1;33m+\u001b[0m\u001b[0mcid\u001b[0m\u001b[1;33m)\u001b[0m\u001b[1;33m\u001b[0m\u001b[0m\n\u001b[0;32m      5\u001b[0m \u001b[1;33m\u001b[0m\u001b[0m\n\u001b[1;32m----> 6\u001b[1;33m     \u001b[0md\u001b[0m\u001b[1;33m=\u001b[0m\u001b[0mrequests\u001b[0m\u001b[1;33m.\u001b[0m\u001b[0mget\u001b[0m\u001b[1;33m(\u001b[0m\u001b[0mrequestString\u001b[0m\u001b[1;33m)\u001b[0m\u001b[1;33m\u001b[0m\u001b[0m\n\u001b[0m\u001b[0;32m      7\u001b[0m \u001b[1;33m\u001b[0m\u001b[0m\n\u001b[0;32m      8\u001b[0m     \u001b[1;32mreturn\u001b[0m \u001b[0md\u001b[0m\u001b[1;33m.\u001b[0m\u001b[0mjson\u001b[0m\u001b[1;33m(\u001b[0m\u001b[1;33m)\u001b[0m\u001b[1;33m\u001b[0m\u001b[0m\n",
      "\u001b[1;32m/home/turing/anaconda/lib/python2.7/site-packages/requests/api.py\u001b[0m in \u001b[0;36mget\u001b[1;34m(url, params, **kwargs)\u001b[0m\n\u001b[0;32m     67\u001b[0m \u001b[1;33m\u001b[0m\u001b[0m\n\u001b[0;32m     68\u001b[0m     \u001b[0mkwargs\u001b[0m\u001b[1;33m.\u001b[0m\u001b[0msetdefault\u001b[0m\u001b[1;33m(\u001b[0m\u001b[1;34m'allow_redirects'\u001b[0m\u001b[1;33m,\u001b[0m \u001b[0mTrue\u001b[0m\u001b[1;33m)\u001b[0m\u001b[1;33m\u001b[0m\u001b[0m\n\u001b[1;32m---> 69\u001b[1;33m     \u001b[1;32mreturn\u001b[0m \u001b[0mrequest\u001b[0m\u001b[1;33m(\u001b[0m\u001b[1;34m'get'\u001b[0m\u001b[1;33m,\u001b[0m \u001b[0murl\u001b[0m\u001b[1;33m,\u001b[0m \u001b[0mparams\u001b[0m\u001b[1;33m=\u001b[0m\u001b[0mparams\u001b[0m\u001b[1;33m,\u001b[0m \u001b[1;33m**\u001b[0m\u001b[0mkwargs\u001b[0m\u001b[1;33m)\u001b[0m\u001b[1;33m\u001b[0m\u001b[0m\n\u001b[0m\u001b[0;32m     70\u001b[0m \u001b[1;33m\u001b[0m\u001b[0m\n\u001b[0;32m     71\u001b[0m \u001b[1;33m\u001b[0m\u001b[0m\n",
      "\u001b[1;32m/home/turing/anaconda/lib/python2.7/site-packages/requests/api.py\u001b[0m in \u001b[0;36mrequest\u001b[1;34m(method, url, **kwargs)\u001b[0m\n\u001b[0;32m     48\u001b[0m \u001b[1;33m\u001b[0m\u001b[0m\n\u001b[0;32m     49\u001b[0m     \u001b[0msession\u001b[0m \u001b[1;33m=\u001b[0m \u001b[0msessions\u001b[0m\u001b[1;33m.\u001b[0m\u001b[0mSession\u001b[0m\u001b[1;33m(\u001b[0m\u001b[1;33m)\u001b[0m\u001b[1;33m\u001b[0m\u001b[0m\n\u001b[1;32m---> 50\u001b[1;33m     \u001b[0mresponse\u001b[0m \u001b[1;33m=\u001b[0m \u001b[0msession\u001b[0m\u001b[1;33m.\u001b[0m\u001b[0mrequest\u001b[0m\u001b[1;33m(\u001b[0m\u001b[0mmethod\u001b[0m\u001b[1;33m=\u001b[0m\u001b[0mmethod\u001b[0m\u001b[1;33m,\u001b[0m \u001b[0murl\u001b[0m\u001b[1;33m=\u001b[0m\u001b[0murl\u001b[0m\u001b[1;33m,\u001b[0m \u001b[1;33m**\u001b[0m\u001b[0mkwargs\u001b[0m\u001b[1;33m)\u001b[0m\u001b[1;33m\u001b[0m\u001b[0m\n\u001b[0m\u001b[0;32m     51\u001b[0m     \u001b[1;31m# By explicitly closing the session, we avoid leaving sockets open which\u001b[0m\u001b[1;33m\u001b[0m\u001b[1;33m\u001b[0m\u001b[0m\n\u001b[0;32m     52\u001b[0m     \u001b[1;31m# can trigger a ResourceWarning in some cases, and look like a memory leak\u001b[0m\u001b[1;33m\u001b[0m\u001b[1;33m\u001b[0m\u001b[0m\n",
      "\u001b[1;32m/home/turing/anaconda/lib/python2.7/site-packages/requests/sessions.py\u001b[0m in \u001b[0;36mrequest\u001b[1;34m(self, method, url, params, data, headers, cookies, files, auth, timeout, allow_redirects, proxies, hooks, stream, verify, cert, json)\u001b[0m\n\u001b[0;32m    466\u001b[0m         }\n\u001b[0;32m    467\u001b[0m         \u001b[0msend_kwargs\u001b[0m\u001b[1;33m.\u001b[0m\u001b[0mupdate\u001b[0m\u001b[1;33m(\u001b[0m\u001b[0msettings\u001b[0m\u001b[1;33m)\u001b[0m\u001b[1;33m\u001b[0m\u001b[0m\n\u001b[1;32m--> 468\u001b[1;33m         \u001b[0mresp\u001b[0m \u001b[1;33m=\u001b[0m \u001b[0mself\u001b[0m\u001b[1;33m.\u001b[0m\u001b[0msend\u001b[0m\u001b[1;33m(\u001b[0m\u001b[0mprep\u001b[0m\u001b[1;33m,\u001b[0m \u001b[1;33m**\u001b[0m\u001b[0msend_kwargs\u001b[0m\u001b[1;33m)\u001b[0m\u001b[1;33m\u001b[0m\u001b[0m\n\u001b[0m\u001b[0;32m    469\u001b[0m \u001b[1;33m\u001b[0m\u001b[0m\n\u001b[0;32m    470\u001b[0m         \u001b[1;32mreturn\u001b[0m \u001b[0mresp\u001b[0m\u001b[1;33m\u001b[0m\u001b[0m\n",
      "\u001b[1;32m/home/turing/anaconda/lib/python2.7/site-packages/requests/sessions.py\u001b[0m in \u001b[0;36msend\u001b[1;34m(self, request, **kwargs)\u001b[0m\n\u001b[0;32m    574\u001b[0m \u001b[1;33m\u001b[0m\u001b[0m\n\u001b[0;32m    575\u001b[0m         \u001b[1;31m# Send the request\u001b[0m\u001b[1;33m\u001b[0m\u001b[1;33m\u001b[0m\u001b[0m\n\u001b[1;32m--> 576\u001b[1;33m         \u001b[0mr\u001b[0m \u001b[1;33m=\u001b[0m \u001b[0madapter\u001b[0m\u001b[1;33m.\u001b[0m\u001b[0msend\u001b[0m\u001b[1;33m(\u001b[0m\u001b[0mrequest\u001b[0m\u001b[1;33m,\u001b[0m \u001b[1;33m**\u001b[0m\u001b[0mkwargs\u001b[0m\u001b[1;33m)\u001b[0m\u001b[1;33m\u001b[0m\u001b[0m\n\u001b[0m\u001b[0;32m    577\u001b[0m \u001b[1;33m\u001b[0m\u001b[0m\n\u001b[0;32m    578\u001b[0m         \u001b[1;31m# Total elapsed time of the request (approximately)\u001b[0m\u001b[1;33m\u001b[0m\u001b[1;33m\u001b[0m\u001b[0m\n",
      "\u001b[1;32m/home/turing/anaconda/lib/python2.7/site-packages/requests/adapters.py\u001b[0m in \u001b[0;36msend\u001b[1;34m(self, request, stream, timeout, verify, cert, proxies)\u001b[0m\n\u001b[0;32m    431\u001b[0m         \u001b[1;32mexcept\u001b[0m \u001b[1;33m(\u001b[0m\u001b[0m_SSLError\u001b[0m\u001b[1;33m,\u001b[0m \u001b[0m_HTTPError\u001b[0m\u001b[1;33m)\u001b[0m \u001b[1;32mas\u001b[0m \u001b[0me\u001b[0m\u001b[1;33m:\u001b[0m\u001b[1;33m\u001b[0m\u001b[0m\n\u001b[0;32m    432\u001b[0m             \u001b[1;32mif\u001b[0m \u001b[0misinstance\u001b[0m\u001b[1;33m(\u001b[0m\u001b[0me\u001b[0m\u001b[1;33m,\u001b[0m \u001b[0m_SSLError\u001b[0m\u001b[1;33m)\u001b[0m\u001b[1;33m:\u001b[0m\u001b[1;33m\u001b[0m\u001b[0m\n\u001b[1;32m--> 433\u001b[1;33m                 \u001b[1;32mraise\u001b[0m \u001b[0mSSLError\u001b[0m\u001b[1;33m(\u001b[0m\u001b[0me\u001b[0m\u001b[1;33m,\u001b[0m \u001b[0mrequest\u001b[0m\u001b[1;33m=\u001b[0m\u001b[0mrequest\u001b[0m\u001b[1;33m)\u001b[0m\u001b[1;33m\u001b[0m\u001b[0m\n\u001b[0m\u001b[0;32m    434\u001b[0m             \u001b[1;32melif\u001b[0m \u001b[0misinstance\u001b[0m\u001b[1;33m(\u001b[0m\u001b[0me\u001b[0m\u001b[1;33m,\u001b[0m \u001b[0mReadTimeoutError\u001b[0m\u001b[1;33m)\u001b[0m\u001b[1;33m:\u001b[0m\u001b[1;33m\u001b[0m\u001b[0m\n\u001b[0;32m    435\u001b[0m                 \u001b[1;32mraise\u001b[0m \u001b[0mReadTimeout\u001b[0m\u001b[1;33m(\u001b[0m\u001b[0me\u001b[0m\u001b[1;33m,\u001b[0m \u001b[0mrequest\u001b[0m\u001b[1;33m=\u001b[0m\u001b[0mrequest\u001b[0m\u001b[1;33m)\u001b[0m\u001b[1;33m\u001b[0m\u001b[0m\n",
      "\u001b[1;31mSSLError\u001b[0m: EOF occurred in violation of protocol (_ssl.c:590)"
     ]
    }
   ],
   "source": [
    "nDayDiff=2\n",
    "# Look back n days from start date\n",
    "\n",
    "diff=2\n",
    "# Start date is yesterday\n",
    "\n",
    "now=datetime.datetime.now()\n",
    "\n",
    "endDate=date(now.year,now.month,now.day)\n",
    "# Throw away hour, minute, second\n",
    "\n",
    "endDate=endDate-datetime.timedelta(days=diff)\n",
    "endDateTemp=endDate\n",
    "# Look back diff days\n",
    "\n",
    "startDate=endDate-datetime.timedelta(days=nDayDiff)\n",
    "startDateTemp=startDate\n",
    "\n",
    "endDate=endDate.strftime(\"%Y-%m-%dT%H:%M:%SZ\")\n",
    "startDate=startDate.strftime(\"%Y-%m-%dT%H:%M:%SZ\")\n",
    "\n",
    "startDates=[startDate]\n",
    "endDates=[endDate]\n",
    "\n",
    "logging.info('%s - %s' %  (' '.join(startDates),' '.join(endDates)))\n",
    "\n",
    "startDates=[d for d in rrule(DAILY,dtstart=startDateTemp,until=endDateTemp-datetime.timedelta(days=1))]\n",
    "startDates=[d.strftime(\"%Y-%m-%dT%H:%M:%SZ\") for d in startDates]\n",
    "\n",
    "logging.info('Start dates %s' % (' '.join(startDates)))\n",
    "\n",
    "vIdList=[]\n",
    "vTimeList=[]\n",
    "vTitleList=[]\n",
    "vLangList=[]\n",
    "vTagList=[]\n",
    "vDescriptionList=[]\n",
    "vCommentCountList=[]\n",
    "vViewCountList=[]\n",
    "vFavouriteCountList=[]\n",
    "vDislikeCountList=[]\n",
    "vLikeCountList=[]\n",
    "vDescriptionLangList=[]\n",
    "vTitleLangList=[]\n",
    "# Initialise video lists\n",
    "\n",
    "cIdList=[]\n",
    "cCountryList=[]\n",
    "cDescriptionList=[]\n",
    "cTitleList=[]\n",
    "# Initialise channel lists\n",
    "\n",
    "commentIdList=[]\n",
    "commentVideoIdList=[]\n",
    "commentTextList=[]\n",
    "commentUserIdList=[]\n",
    "commentLikesList=[]\n",
    "commentTimeList=[]\n",
    "commentTextLangList=[]\n",
    "commentCountryList=[]\n",
    "# Initialise comment lists\n",
    "\n",
    "replyTextList=[]\n",
    "replyCommentIdList=[]\n",
    "replyTimeList=[]\n",
    "replyAuthorIdList=[]\n",
    "replyLikeCountList=[]\n",
    "replyVideoIdList=[]\n",
    "replyLangList=[]\n",
    "replyCountryList=[]\n",
    "# Initialise reply lists\n",
    "\n",
    "##############\n",
    "for start,end in zip(startDates[0:-1],startDates[1:]):\n",
    "\n",
    "    isMoreVideos=True\n",
    "    nextPageToken=None\n",
    "    \n",
    "    while isMoreVideos:\n",
    "        logging.warning('Getting more videos')\n",
    "        data,isMoreVideos,nextPageToken=getVideos(end,start,nextPageToken)\n",
    "\n",
    "        logging.warning('Data keys %s' % data.keys())\n",
    "        logging.warning('Got %d videos' % (len(data['items'])))\n",
    "        logging.warning('Got %d unique videos' % (len([vv[u'id']['videoId'] for vv in data['items'] if not vv[u'id']['videoId'] in vIdList])))\n",
    "\n",
    "        videoIds=[]\n",
    "\n",
    "        for v,video in enumerate(data['items']):\n",
    "            ############################################\n",
    "            # Video stuff\n",
    "\n",
    "            videoId=video[u'id']['videoId']\n",
    "            if not videoId in vIdList:\n",
    "                # Some duplicate videos are returned\n",
    "                vIdList.append(videoId)\n",
    "\n",
    "                videoIds.append(videoId)\n",
    "                videoData=getVideoData(videoId)\n",
    "                \n",
    "                if videoData.get('missing'):\n",
    "                    logging.warning('Video Missing %s' % videoId)\n",
    "\n",
    "                logging.info('Video ID %s' % videoId)\n",
    "#                logging.info('Video keys %s' % (videoData['items'][0].keys()))\n",
    "\n",
    "                res=getVideoInfoFromVideo(videoId)\n",
    "        \n",
    "                if res:\n",
    "                # If video could be retrieved\n",
    "                    channelId=res['items'][0]['snippet']['channelId']\n",
    "\n",
    "                    vTime,vTitle,vTags,vLang,vDescription,vCommentCount,vViewCount,vFavouriteCount,vDislikeCount,vLikeCount=\\\n",
    "                    getVideoParts(res['items'][0])\n",
    "\n",
    "                    logging.info('Video Title: %s' % vTitle)\n",
    "                    vTitleList.append(vTitle)\n",
    "\n",
    "                    logging.info('Video time: %s' % vTime)\n",
    "                    vTimeList.append(vTime)\n",
    "\n",
    "                    logging.info('Video tags: %s' % vTags)\n",
    "                    vTagList.append(vTags)\n",
    "\n",
    "                    if vLang:logging.info('Video lang: %s' % vLang)\n",
    "                    vLangList.append(vLang)\n",
    "\n",
    "                    if False:print 'Video Description:',vDescription\n",
    "                    vDescriptionList.append(vDescription)\n",
    "\n",
    "                    vTitleLang=langid.classify(vTitle)[0]\n",
    "                    vDescriptionLang=langid.classify(vDescription)[0]\n",
    "\n",
    "                    logging.info('Video Stats %s' % ' '.join([k+':'+str(v) for k,v in \\\n",
    "                                zip(['comments','views','favs','dislike','like']\\\n",
    "                                ,[vCommentCount,vViewCount,vFavouriteCount,vDislikeCount,vLikeCount]) if v]))\n",
    "                    vCommentCountList.append(vCommentCount)\n",
    "                    vViewCountList.append(vViewCount)\n",
    "                    vFavouriteCountList.append(vFavouriteCount)\n",
    "                    vDislikeCountList.append(vDislikeCount)\n",
    "                    vLikeCountList.append(vLikeCount)\n",
    "                    vDescriptionLangList.append(vDescriptionLang)\n",
    "                    vTitleLangList.append(vTitleLang)\n",
    "                    \n",
    "                    isMoreComments=True\n",
    "                    nextCommentPageToken=None\n",
    "    \n",
    "                    while isMoreComments:\n",
    "                        if nextCommentPageToken:\n",
    "                            logging.warning('Getting more comments')\n",
    "                            logging.warning('%s',nextCommentPageToken)\n",
    "                        else:\n",
    "                            logging.warning('Getting first comments for %s' % videoId)\n",
    "                        commentThreads,isMoreComments,nextCommentPageToken=getCommentsFromVideo(videoId,nextCommentPageToken)\n",
    "\n",
    "#                    commentThreads,isMoreComments=getCommentsFromVideo(videoId)\n",
    "\n",
    "                        for thread in commentThreads:\n",
    "\n",
    "                            commentId=thread['snippet']['topLevelComment']['id']\n",
    "                            commentIdList.append(commentId)\n",
    "\n",
    "                            commentVideoId=thread['snippet']['topLevelComment']['snippet']['videoId']\n",
    "                            commentVideoIdList.append(commentVideoId)\n",
    "\n",
    "                            commentText=thread['snippet']['topLevelComment']['snippet']['textDisplay']\n",
    "                            commentTextList.append(commentText)\n",
    "                            commentTextLang=langid.classify(commentText)[0]\n",
    "                            commentTextLangList.append(commentTextLang)\n",
    "\n",
    "                            commentTime=thread['snippet']['topLevelComment']['snippet']['publishedAt']\n",
    "                            commentTimeList.append(commentTime)\n",
    "\n",
    "                            try:commentUser=thread['snippet']['topLevelComment']['snippet']['authorChannelId']['value']\n",
    "                            except:commentUser=None\n",
    "                                \n",
    "                            if commentUser:\n",
    "                                commentInfo=getChannelInfoFromChannel(commentUser)\n",
    "                            if commentInfo:\n",
    "                                commentCountry=getCountryFromInfo(commentInfo)\n",
    "                            else:\n",
    "                                commentCountry=None\n",
    "                                commentCountryList.append(commentCountry)\n",
    "                                \n",
    "                            commentUserIdList.append(commentUser)\n",
    "\n",
    "                            commentLikes=thread['snippet']['topLevelComment']['snippet']['likeCount']\n",
    "                            commentLikesList.append(commentLikes)\n",
    "\n",
    "                            if thread['snippet']['totalReplyCount']>0:\n",
    "                                \n",
    "                                isMoreReplies=True\n",
    "                                nextReplyPageToken=None\n",
    "                                while isMoreReplies:\n",
    "                                    replies,isMoreReplies,nextReplyPageToken=getRepliesFromComment(commentId,commentTime,commentText,nextReplyPageToken)\n",
    "                                    logging.info('%d replies' % (len(replies)))\n",
    "\n",
    "                                    for reply in replies['items']:\n",
    "                                        replyVideoIdList.append(videoId)\n",
    "                                        replyText=reply['snippet']['textDisplay']\n",
    "                                        replyTextList.append(replyText)\n",
    "                                        replyTextLang=langid.classify(replyText)[0]\n",
    "                                        replyLangList.append(replyText)\n",
    "\n",
    "                                        replyCommentId=reply['snippet']['parentId']\n",
    "                                        replyCommentIdList.append(replyCommentId)\n",
    "\n",
    "                                        replyTime=reply['snippet']['publishedAt']\n",
    "                                        replyTimeList.append(replyTime)\n",
    "\n",
    "                                        try:replyAuthorId=reply['snippet']['authorChannelId']['value']\n",
    "                                        except:\n",
    "                                            logging.warning('Reply no author id %s' % reply['snippet'])\n",
    "                                            replyAuthorId=None\n",
    "                                            \n",
    "                                        if replyAuthorId:\n",
    "                                            replyInfo=getChannelInfoFromChannel(replyAuthorId)\n",
    "                                            if replyInfo:\n",
    "                                                replyCountry=getCountryFromInfo(replyInfo)\n",
    "                                            else:\n",
    "                                                replyCountry=None\n",
    "                                            replyCountryList.append(replyCountry)\n",
    "                                            \n",
    "                                        replyAuthorIdList.append(replyAuthorId)\n",
    "\n",
    "                                        replyLikeCount=reply['snippet']['likeCount']\n",
    "                                        replyLikeCountList.append(replyLikeCount)\n",
    "                    logging.warning('Got all comments for video')\n",
    "                    ############################################\n",
    "                    # Channel stuff\n",
    "\n",
    "                    info=getChannelInfoFromChannel(channelId)\n",
    "                    cIdList.append(channelId)\n",
    "\n",
    "                    cCountry=getCountryFromInfo(info)\n",
    "                    logging.info('Channel Country: %s' % cCountry)\n",
    "                    cCountryList.append(cCountry)\n",
    "\n",
    "                    cDescription=getDescriptionFromInfo(info)\n",
    "                    if False:print 'Channel Description:',cDescription\n",
    "                    cDescriptionList.append(cDescription)\n",
    "\n",
    "                    cTitle=getTitleFromInfo(info)\n",
    "                    logging.info('Channel Title %s' % cTitle)\n",
    "                    cTitleList.append(cTitle)\n",
    "                else:\n",
    "                    logging.warning('Subbing empty data')\n",
    "                    vTitleList.append(None)\n",
    "                    vTimeList.append(None)\n",
    "                    vTagList.append(None)\n",
    "                    vLangList.append(None)\n",
    "                    vDescriptionList.append(None)\n",
    "                    vCommentCountList.append(None)\n",
    "                    vViewCountList.append(None)\n",
    "                    vFavouriteCountList.append(None)\n",
    "                    vDislikeCountList.append(None)\n",
    "                    vLikeCountList.append(None)\n",
    "                    vTitleLangList.append(None)\n",
    "                    \n",
    "                    vTitleLangList.append(None)\n",
    "                    vDescriptionList.append(None)\n",
    "                    vDescriptionLangList.append(None)\n",
    "                    \n",
    "                    cIdList.append(None)\n",
    "                    cCountryList.append(None)\n",
    "                    cDescriptionList.append(None)\n",
    "                    cTitleList.append(None)\n",
    "                logging.info('\\n')\n",
    "\n",
    "                assert len(vIdList)==len(vTitleList)==len(vTagList)==len(vLangList)==len(vDescriptionList)==len(vViewCountList)\\\n",
    "                ==len(vFavouriteCountList)==len(vDislikeCountList)==len(vLikeCountList)==len(vTimeList)==len(vTitleLangList)\\\n",
    "                ==len(cIdList)==len(cCountryList)==len(cDescriptionList)==len(cTitleList)==len(vTimeList)==len(vDescriptionLangList)\\\n",
    "                ,'Video data mismatched '+' - '.join(['%d:%d' % len(ll) for n,ll in enumerate([vIdList,vTitleList,vTagList,vDescriptionList,\\\n",
    "                vViewCountList,vFavouriteCountList,vDislikeCountList,vLikeCountList,vTimeList,vTitleLangList,cIdList,\\\n",
    "                cCountryList,cDescriptionList,cTitleList,vTimeList,vDescriptionLangList])])\n",
    "\n",
    "                assert len(commentIdList)==len(commentLikesList)==len(commentTextList)==len(commentTimeList)\\\n",
    "                ==len(commentUserIdList)==len(commentVideoIdList)\\\n",
    "                ,'Comment data mismatched'\n",
    "\n",
    "                assert len(replyAuthorIdList)==len(replyCommentIdList)==len(replyLikeCountList)==len(replyTextList)\\\n",
    "                ==len(replyTimeList)\\\n",
    "                ,'Reply data mismatched'\n",
    "\n",
    "        logging.warning('Stats: %d videos %d comments %d replies' %(len(vIdList),len(commentIdList),len(replyCommentIdList)))\n",
    "    \n",
    "    logging.warning('End of pagination\\n')\n",
    "logging.warning('Finished looping over dates\\n')\n",
    "    \n",
    "videoDf=pd.DataFrame(data={'id':vIdList,'title':vTitleList,'tags':vTagList,'lang':vLangList,'description':vDescriptionList,\\\n",
    "                'descriptionLang':vDescriptionLangList,'views':vViewCountList,'favourites':vFavouriteCountList,'dislikes':vDislikeCountList,\\\n",
    "                'titleLang':vTitleLangList,'likes':vLikeCountList,'channelId':cIdList,'channelCountry':cCountryList,\\\n",
    "                'channelDescription':cDescriptionList,'channelTitle':cTitleList},index=vTimeList)       \n",
    "      \n",
    "commentDf=pd.DataFrame(data={'text':commentTextList,'videoId':commentVideoIdList,'id':commentIdList,\\\n",
    "                             'likes':commentLikesList,'user':commentUserIdList,'lang':commentTextLangList},index=commentTimeList)\n",
    "\n",
    "replyDf=pd.DataFrame(data={'text':replyTextList,'likes':replyLikeCountList,'author':replyAuthorIdList,'lang':replyLangList,\\\n",
    "                           'parentComment':replyCommentIdList,'parentVideo':replyVideoIdList,'country':replyCountryList},index=replyTimeList)"
   ]
  },
  {
   "cell_type": "code",
   "execution_count": null,
   "metadata": {
    "collapsed": false
   },
   "outputs": [],
   "source": [
    "replyDf.columns"
   ]
  },
  {
   "cell_type": "code",
   "execution_count": null,
   "metadata": {
    "collapsed": false
   },
   "outputs": [],
   "source": [
    "trash1,trash2,trash3=getVideos(end,start,None)"
   ]
  },
  {
   "cell_type": "code",
   "execution_count": null,
   "metadata": {
    "collapsed": false
   },
   "outputs": [],
   "source": [
    "print replyDf.shape,videoDf.shape,commentDf.shape"
   ]
  },
  {
   "cell_type": "markdown",
   "metadata": {},
   "source": [
    "###Set indices to datetime"
   ]
  },
  {
   "cell_type": "code",
   "execution_count": 17,
   "metadata": {
    "collapsed": true
   },
   "outputs": [],
   "source": [
    "videoDf.index=pd.to_datetime(videoDf.index)\n",
    "commentDf.index=pd.to_datetime(commentDf.index)\n",
    "replyDf.index=pd.to_datetime(replyDf.index)"
   ]
  },
  {
   "cell_type": "code",
   "execution_count": 18,
   "metadata": {
    "collapsed": false
   },
   "outputs": [
    {
     "data": {
      "text/plain": [
       "2S31a-AOsRg    20\n",
       "b4dwFPhuHM0    14\n",
       "Jex85eWtS3U    12\n",
       "_Ry89yZuxz4    11\n",
       "GJm_osjy9TU     9\n",
       "cHY1VJpu-6w     7\n",
       "3JXYGohv9HU     5\n",
       "7uy-Gz91jK0     4\n",
       "5NVMcv0pX2o     4\n",
       "yRgV268usWY     2\n",
       "7zuY03TTTas     2\n",
       "ogh2hud1yt4     2\n",
       "oiagiZntwBs     2\n",
       "T0ljVkQh9yU     2\n",
       "v1rvUUV4TIw     2\n",
       "R0DQ9ZfwUC0     2\n",
       "sIDrH5wp0Y4     1\n",
       "LSwkB7BXFPw     1\n",
       "ib4TtGxLc3U     1\n",
       "3IGcvdMO1m4     1\n",
       "dNkAnM3gd_o     1\n",
       "RqWjDcbqMH8     1\n",
       "9rvK4CceCls     1\n",
       "GaBBbTHXihw     1\n",
       "zM7qUKFQcbs     1\n",
       "q5E6h0kNlWs     1\n",
       "8aSRjJgBXUM     1\n",
       "Name: parentVideo, dtype: int64"
      ]
     },
     "execution_count": 18,
     "metadata": {},
     "output_type": "execute_result"
    }
   ],
   "source": [
    "replyDf.parentVideo.value_counts()"
   ]
  },
  {
   "cell_type": "markdown",
   "metadata": {},
   "source": [
    "###Write Out"
   ]
  },
  {
   "cell_type": "code",
   "execution_count": 19,
   "metadata": {
    "collapsed": false
   },
   "outputs": [],
   "source": [
    "videoDf.to_pickle('videos.dat')\n",
    "commentDf.to_pickle('comments.dat')\n",
    "replyDf.to_pickle('replies.dat')"
   ]
  },
  {
   "cell_type": "markdown",
   "metadata": {
    "collapsed": true
   },
   "source": [
    "###Read In"
   ]
  },
  {
   "cell_type": "code",
   "execution_count": null,
   "metadata": {
    "collapsed": true
   },
   "outputs": [],
   "source": [
    "videoDf=pd.read_pickle('videos.dat')\n",
    "commentDf=pd.read_pickle('comments.dat')\n",
    "replyDf=pd.read_pickle('replies.dat')"
   ]
  },
  {
   "cell_type": "code",
   "execution_count": null,
   "metadata": {
    "collapsed": false
   },
   "outputs": [],
   "source": [
    "info=getChannelInfoFromChannel('UCzGDueOgZn1agWXcl2BOrXA')\n",
    "print getCountryFromInfo(info)"
   ]
  },
  {
   "cell_type": "code",
   "execution_count": null,
   "metadata": {
    "collapsed": false
   },
   "outputs": [],
   "source": [
    "replyDf.shape"
   ]
  },
  {
   "cell_type": "code",
   "execution_count": null,
   "metadata": {
    "collapsed": false
   },
   "outputs": [],
   "source": [
    "len(pd.unique(replyDf.author))"
   ]
  },
  {
   "cell_type": "code",
   "execution_count": null,
   "metadata": {
    "collapsed": false
   },
   "outputs": [],
   "source": [
    "len(pd.unique(commentDf['user']))"
   ]
  },
  {
   "cell_type": "code",
   "execution_count": 20,
   "metadata": {
    "collapsed": true
   },
   "outputs": [],
   "source": [
    "def convertToInt(n):\n",
    "    if n:\n",
    "        return int(n)\n",
    "    else:\n",
    "        return n"
   ]
  },
  {
   "cell_type": "code",
   "execution_count": 21,
   "metadata": {
    "collapsed": false
   },
   "outputs": [],
   "source": [
    "videoDf['views']=videoDf['views'].apply(convertToInt)"
   ]
  },
  {
   "cell_type": "code",
   "execution_count": null,
   "metadata": {
    "collapsed": false
   },
   "outputs": [],
   "source": [
    "commentUserCountryHash=collections.OrderedDict()\n",
    "for n,r in enumerate(commentDf.iterrows()):\n",
    "    \n",
    "    if n%50==0:\n",
    "        time.sleep(2)\n",
    "    \n",
    "    if n%200==0:\n",
    "        print n,r[1]['user']\n",
    "        \n",
    "    info=getChannelInfoFromChannel(r[1]['user'])\n",
    "    if info:\n",
    "        c=getCountryFromInfo(info)\n",
    "        if c:\n",
    "            commentUserCountryHash[r[1]['user']]=c\n",
    "            print '\\t',c"
   ]
  },
  {
   "cell_type": "code",
   "execution_count": null,
   "metadata": {
    "collapsed": true
   },
   "outputs": [],
   "source": [
    "print commentUserCountryHash"
   ]
  },
  {
   "cell_type": "code",
   "execution_count": null,
   "metadata": {
    "collapsed": true
   },
   "outputs": [],
   "source": [
    "import pickle\n",
    "\n",
    "with open('country_hash.dat','w') as outFile:\n",
    "    pickle.dump(commentUserCountryHash,outFile)\n",
    "print 'Done'"
   ]
  },
  {
   "cell_type": "code",
   "execution_count": null,
   "metadata": {
    "collapsed": false
   },
   "outputs": [],
   "source": [
    "commentDf.head()"
   ]
  },
  {
   "cell_type": "markdown",
   "metadata": {},
   "source": [
    "###Read in taxonomy to classify content"
   ]
  },
  {
   "cell_type": "code",
   "execution_count": null,
   "metadata": {
    "collapsed": true
   },
   "outputs": [],
   "source": [
    "taxonomy={}\n",
    "with open('../ipynb/taxonomy.csv','r') as taxonomyFile:\n",
    "    lines=taxonomyFile.read().decode('utf-8').split('\\n')\n",
    "    for line in lines:\n",
    "        line=line.split(',')\n",
    "        line=map(unicode.lstrip,line)\n",
    "        taxonomy[line[0]]=u'|'.join(line[1:])"
   ]
  },
  {
   "cell_type": "code",
   "execution_count": null,
   "metadata": {
    "collapsed": false
   },
   "outputs": [],
   "source": [
    "def matchesIndia(x,term=None):\n",
    "    if x:\n",
    "        if term:\n",
    "            if term in x:\n",
    "                return True    \n",
    "        else:\n",
    "            if 'India' in x:\n",
    "                return True\n",
    "    return False"
   ]
  },
  {
   "cell_type": "code",
   "execution_count": null,
   "metadata": {
    "collapsed": false
   },
   "outputs": [],
   "source": [
    "sum(videoDf.tags.apply(matchesIndia).values)"
   ]
  },
  {
   "cell_type": "code",
   "execution_count": null,
   "metadata": {
    "collapsed": false
   },
   "outputs": [],
   "source": [
    "collections.Counter(videoDf[~pd.isnull(videoDf.channelCountry)].channelCountry.values).most_common()[0:10]"
   ]
  },
  {
   "cell_type": "code",
   "execution_count": null,
   "metadata": {
    "collapsed": false
   },
   "outputs": [],
   "source": [
    "vals=collections.Counter(videoDf[~pd.isnull(videoDf.channelCountry)].channelCountry.values).most_common()[0:10]\n",
    "# Throw out null\n",
    "vals.reverse()\n",
    "plt.barh([i for i in range(10)],[v[1] for v in vals],0.8)\n",
    "plt.yticks([i+0.4 for i in range(10)],[v[0]+' (%d - %d%%)' % (v[1],int((100*v[1])/sum([v[1] for v in vals]))) for v in vals])\n",
    "plt.title('YouTube Channel Geolocation (%d%% classified)' % (100*sum([v[1] for v in vals])/(videoDf.shape[0])))\n",
    "plt.tight_layout()\n",
    "plt.savefig('../charts/youtube_country_dist.png',dpi=300)"
   ]
  },
  {
   "cell_type": "code",
   "execution_count": null,
   "metadata": {
    "collapsed": false
   },
   "outputs": [],
   "source": [
    "vals=collections.Counter(videoDf[~pd.isnull(videoDf.channelCountry)].channelCountry.values).most_common()[0:10]\n",
    "# Throw out null\n",
    "vals.reverse()\n",
    "plt.barh([i for i in range(10)],[v[1] for v in vals],0.8)\n",
    "plt.yticks([i+0.4 for i in range(10)],[v[0]+' (%d - %d%%)' % (v[1],int((100*v[1])/sum([v[1] for v in vals]))) for v in vals])\n",
    "plt.title('YouTube Channel Geolocation (%d%% classified)' % (100*sum([v[1] for v in vals])/(videoDf.shape[0])))\n",
    "plt.tight_layout()\n",
    "plt.savefig('../charts/youtube_country_dist.png',dpi=300)"
   ]
  },
  {
   "cell_type": "code",
   "execution_count": null,
   "metadata": {
    "collapsed": false
   },
   "outputs": [],
   "source": [
    "chosenCountry='IN'\n",
    "#chosenCountry=None\n",
    "\n",
    "if chosenCountry:\n",
    "    videoDf[videoDf.channelCountry==chosenCountry]['id'].resample('w',how='count').plot()\n",
    "else:\n",
    "    videoDf['id'].resample('w',how='count').plot()\n",
    "if chosenCountry:\n",
    "    plt.ylabel('Videos Published per Week (%s)' % chosenCountry)\n",
    "else:\n",
    "    plt.ylabel('Videos Published per Week')\n",
    "plt.tight_layout()\n",
    "\n",
    "if chosenCountry:\n",
    "    plt.savefig('../charts/youtube_time_%s.png' % chosenCountry,dpi=300)\n",
    "else:\n",
    "    plt.savefig('../charts/youtube_time.png',dpi=300)"
   ]
  },
  {
   "cell_type": "code",
   "execution_count": null,
   "metadata": {
    "collapsed": false
   },
   "outputs": [],
   "source": [
    "commentDf[commentDf.index>pd.datetime(2015,1,1)]['id'].resample('w',how='count').plot()\n",
    "plt.ylabel('Comments per Week')\n",
    "plt.tight_layout()\n",
    "plt.savefig('../charts/youtube_comments_time.png',dpi=300)"
   ]
  },
  {
   "cell_type": "code",
   "execution_count": null,
   "metadata": {
    "collapsed": false
   },
   "outputs": [],
   "source": [
    "commentDf.videoId.value_counts()[0:10]"
   ]
  },
  {
   "cell_type": "code",
   "execution_count": null,
   "metadata": {
    "collapsed": false
   },
   "outputs": [],
   "source": [
    "oldIds=videoDf.id.values"
   ]
  },
  {
   "cell_type": "code",
   "execution_count": null,
   "metadata": {
    "collapsed": false
   },
   "outputs": [],
   "source": [
    "for r in random.sample(videoDf[~(videoDf.channelCountry=='IN')].id.values,10):\n",
    "    print r,videoDf[videoDf.id==r].title.values[0]#,videoDf[videoDf.id==r].title.values[0],videoDf[videoDf.id==r].description.values[0]\n",
    "    print '=================='"
   ]
  },
  {
   "cell_type": "code",
   "execution_count": null,
   "metadata": {
    "collapsed": false
   },
   "outputs": [],
   "source": [
    "FULLQUERY"
   ]
  },
  {
   "cell_type": "code",
   "execution_count": null,
   "metadata": {
    "collapsed": true
   },
   "outputs": [],
   "source": []
  }
 ],
 "metadata": {
  "kernelspec": {
   "display_name": "Python 2",
   "language": "python",
   "name": "python2"
  },
  "language_info": {
   "codemirror_mode": {
    "name": "ipython",
    "version": 2
   },
   "file_extension": ".py",
   "mimetype": "text/x-python",
   "name": "python",
   "nbconvert_exporter": "python",
   "pygments_lexer": "ipython2",
   "version": "2.7.10"
  }
 },
 "nbformat": 4,
 "nbformat_minor": 0
}
